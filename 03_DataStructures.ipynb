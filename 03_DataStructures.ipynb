{
  "nbformat": 4,
  "nbformat_minor": 0,
  "metadata": {
    "colab": {
      "provenance": [],
      "authorship_tag": "ABX9TyP+qVwfDK5MQ08IwuWOMdk6",
      "include_colab_link": true
    },
    "kernelspec": {
      "name": "python3",
      "display_name": "Python 3"
    },
    "language_info": {
      "name": "python"
    }
  },
  "cells": [
    {
      "cell_type": "markdown",
      "metadata": {
        "id": "view-in-github",
        "colab_type": "text"
      },
      "source": [
        "<a href=\"https://colab.research.google.com/github/EstebanJM/V.Data/blob/main/03_DataStructures.ipynb\" target=\"_parent\"><img src=\"https://colab.research.google.com/assets/colab-badge.svg\" alt=\"Open In Colab\"/></a>"
      ]
    },
    {
      "cell_type": "markdown",
      "source": [
        "# **1. What is a DS?**\n",
        "\n",
        "A DS is an object that let us store more than one value\n",
        "\n",
        "Formally, a DS is a **Sequence** of values which can be located with an index. "
      ],
      "metadata": {
        "id": "jNUY7KLduOOa"
      }
    },
    {
      "cell_type": "markdown",
      "source": [
        "## **2. Linear Algebra**"
      ],
      "metadata": {
        "id": "WqIC4HeAwYkR"
      }
    },
    {
      "cell_type": "markdown",
      "source": [
        "## 2.1 What is Numpy ?\n",
        "\n",
        "Numpy (Numerical Phyton) is a collection of functions and methods"
      ],
      "metadata": {
        "id": "gYSZkAbFxRIr"
      }
    },
    {
      "cell_type": "code",
      "execution_count": 1,
      "metadata": {
        "id": "9ToBrqWGuMlV"
      },
      "outputs": [],
      "source": [
        "# Instal library\n",
        "\n",
        "import numpy as np"
      ]
    },
    {
      "cell_type": "markdown",
      "source": [
        "## 2.2 Numpy arrays - vectors and matrices"
      ],
      "metadata": {
        "id": "FNddiXFFygov"
      }
    },
    {
      "cell_type": "markdown",
      "source": [
        "Example 1 - column vector\n",
        "\n"
      ],
      "metadata": {
        "id": "TkJ3REZYy-FX"
      }
    },
    {
      "cell_type": "code",
      "source": [
        "a = np.array([[1],[2],[3]])\n",
        "print(a)"
      ],
      "metadata": {
        "colab": {
          "base_uri": "https://localhost:8080/"
        },
        "id": "AAcUZB08yMub",
        "outputId": "14e25607-54b7-4e46-b837-800100adadd3"
      },
      "execution_count": 3,
      "outputs": [
        {
          "output_type": "stream",
          "name": "stdout",
          "text": [
            "[[1]\n",
            " [2]\n",
            " [3]]\n"
          ]
        }
      ]
    },
    {
      "cell_type": "code",
      "source": [],
      "metadata": {
        "id": "I-qAxJMX0H-Y"
      },
      "execution_count": null,
      "outputs": []
    }
  ]
}