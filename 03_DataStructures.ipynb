{
  "nbformat": 4,
  "nbformat_minor": 0,
  "metadata": {
    "colab": {
      "provenance": [],
      "authorship_tag": "ABX9TyOX58O+/lUhBDrDZ4Qc7bXe",
      "include_colab_link": true
    },
    "kernelspec": {
      "name": "python3",
      "display_name": "Python 3"
    },
    "language_info": {
      "name": "python"
    }
  },
  "cells": [
    {
      "cell_type": "markdown",
      "metadata": {
        "id": "view-in-github",
        "colab_type": "text"
      },
      "source": [
        "<a href=\"https://colab.research.google.com/github/EstebanJM/V.Data/blob/main/03_DataStructures.ipynb\" target=\"_parent\"><img src=\"https://colab.research.google.com/assets/colab-badge.svg\" alt=\"Open In Colab\"/></a>"
      ]
    },
    {
      "cell_type": "markdown",
      "source": [
        "# **1. What is a DS?**\n",
        "\n",
        "A DS is an object that let us store more than one value\n",
        "\n",
        "Formally, a DS is a **Sequence** of values which can be located with an index. "
      ],
      "metadata": {
        "id": "jNUY7KLduOOa"
      }
    },
    {
      "cell_type": "markdown",
      "source": [
        "## **2. Linear Algebra**"
      ],
      "metadata": {
        "id": "WqIC4HeAwYkR"
      }
    },
    {
      "cell_type": "markdown",
      "source": [
        "## 2.1 What is Numpy ?\n",
        "\n",
        "Numpy (Numerical Phyton) is a collection of functions and methods"
      ],
      "metadata": {
        "id": "gYSZkAbFxRIr"
      }
    },
    {
      "cell_type": "code",
      "execution_count": 1,
      "metadata": {
        "id": "9ToBrqWGuMlV"
      },
      "outputs": [],
      "source": [
        "# Instal library\n",
        "\n",
        "import numpy as np"
      ]
    },
    {
      "cell_type": "markdown",
      "source": [
        "## 2.2 Numpy arrays - vectors and matrices"
      ],
      "metadata": {
        "id": "FNddiXFFygov"
      }
    },
    {
      "cell_type": "markdown",
      "source": [
        "Example 1 - column vector\n",
        "\n"
      ],
      "metadata": {
        "id": "TkJ3REZYy-FX"
      }
    },
    {
      "cell_type": "code",
      "source": [
        "a = np.array([[1],[2],[3]])\n",
        "print(a)\n",
        "print(a.shape)"
      ],
      "metadata": {
        "colab": {
          "base_uri": "https://localhost:8080/"
        },
        "id": "AAcUZB08yMub",
        "outputId": "d3a66f82-f297-43d2-c08d-87cea945b467"
      },
      "execution_count": null,
      "outputs": [
        {
          "output_type": "stream",
          "name": "stdout",
          "text": [
            "[[1]\n",
            " [2]\n",
            " [3]]\n",
            "(3, 1)\n"
          ]
        }
      ]
    },
    {
      "cell_type": "markdown",
      "source": [
        "Example 2 - row vector"
      ],
      "metadata": {
        "id": "oJFXPnv3nYpz"
      }
    },
    {
      "cell_type": "code",
      "source": [
        "b = np.array ([[4,5,6]])\n",
        "print(b)\n",
        "print (b.shape)"
      ],
      "metadata": {
        "id": "I-qAxJMX0H-Y",
        "colab": {
          "base_uri": "https://localhost:8080/"
        },
        "outputId": "3de1712e-1c86-4abf-d859-aa2eec589f0d"
      },
      "execution_count": null,
      "outputs": [
        {
          "output_type": "stream",
          "name": "stdout",
          "text": [
            "[[4 5 6]]\n",
            "(1, 3)\n"
          ]
        }
      ]
    },
    {
      "cell_type": "markdown",
      "source": [
        "Example 3 - Matrix"
      ],
      "metadata": {
        "id": "XU_S4LWcn8vc"
      }
    },
    {
      "cell_type": "code",
      "source": [
        "M = np.array ([[1,2,3],[4,5,6],[7,8,9]])\n",
        "print(M)\n",
        "print(M.shape)"
      ],
      "metadata": {
        "colab": {
          "base_uri": "https://localhost:8080/"
        },
        "id": "3X0cl4H7n1X8",
        "outputId": "d1396bda-5fba-46e8-8327-adfadb4a4274"
      },
      "execution_count": null,
      "outputs": [
        {
          "output_type": "stream",
          "name": "stdout",
          "text": [
            "[[1 2 3]\n",
            " [4 5 6]\n",
            " [7 8 9]]\n",
            "(3, 3)\n"
          ]
        }
      ]
    },
    {
      "cell_type": "code",
      "source": [
        "# Nice trick\n",
        "\n",
        "nr, nc = M.shape"
      ],
      "metadata": {
        "id": "EF1qfAx7ogkL"
      },
      "execution_count": null,
      "outputs": []
    },
    {
      "cell_type": "markdown",
      "source": [
        "# 2.3. Scilling\n",
        "\n",
        "To acces one or several elements of the object"
      ],
      "metadata": {
        "id": "8Uu6QcGXpPus"
      }
    },
    {
      "cell_type": "code",
      "source": [
        "# Extract the first element\n",
        "\n",
        "## Column vector\n",
        "print(a[0,0])\n",
        "\n",
        "## row vector\n",
        "print(b[0,0])\n",
        "\n",
        "## Matrix\n",
        "print(M[0,0])"
      ],
      "metadata": {
        "colab": {
          "base_uri": "https://localhost:8080/"
        },
        "id": "LqWarxqgpE9z",
        "outputId": "1a17abbd-dd8c-4af4-eb01-e7bf05a55ae8"
      },
      "execution_count": null,
      "outputs": [
        {
          "output_type": "stream",
          "name": "stdout",
          "text": [
            "1\n",
            "4\n",
            "1\n"
          ]
        }
      ]
    },
    {
      "cell_type": "code",
      "source": [
        "# Extract the last element\n",
        "\n",
        "## Column vector\n",
        "print(a[-1,0])\n",
        "\n",
        "## row vector\n",
        "print(b[0,-1])\n",
        "\n",
        "## Matrix\n",
        "print(M[-1,-1])"
      ],
      "metadata": {
        "colab": {
          "base_uri": "https://localhost:8080/"
        },
        "id": "-0lunYewqN2b",
        "outputId": "22ea90ce-4e0e-4014-b0f6-eafce462fcd1"
      },
      "execution_count": null,
      "outputs": [
        {
          "output_type": "stream",
          "name": "stdout",
          "text": [
            "3\n",
            "6\n",
            "9\n"
          ]
        }
      ]
    },
    {
      "cell_type": "code",
      "source": [
        "# Extract a subset\n",
        "\n",
        "## Column vector\n",
        "print(a[0:2])\n",
        "\n",
        "## row vector\n",
        "print(b[0,0:2])\n",
        "\n",
        "## Matrix\n",
        "print(M[0:2,0:2])"
      ],
      "metadata": {
        "colab": {
          "base_uri": "https://localhost:8080/"
        },
        "id": "Gvx8TD2wrhx2",
        "outputId": "313f87e2-c162-4afe-f742-5524991bb5c3"
      },
      "execution_count": null,
      "outputs": [
        {
          "output_type": "stream",
          "name": "stdout",
          "text": [
            "[[1]\n",
            " [2]]\n",
            "[4 5]\n",
            "[[1 2]\n",
            " [4 5]]\n"
          ]
        }
      ]
    },
    {
      "cell_type": "markdown",
      "source": [
        "## 2.4 Methods"
      ],
      "metadata": {
        "id": "q0_Tmrc0s5Tm"
      }
    },
    {
      "cell_type": "code",
      "source": [
        "# ZEROS\n",
        "\n",
        "z1 = np.zeros(4)\n",
        "print(z1)\n",
        "\n",
        "z2 = np.zeros((3,2))\n",
        "print(z2)"
      ],
      "metadata": {
        "colab": {
          "base_uri": "https://localhost:8080/"
        },
        "id": "n4yb3ybcsphv",
        "outputId": "200986cd-79ca-4f02-dadb-15cfc0b8007c"
      },
      "execution_count": null,
      "outputs": [
        {
          "output_type": "stream",
          "name": "stdout",
          "text": [
            "[0. 0. 0. 0.]\n",
            "[[0. 0.]\n",
            " [0. 0.]\n",
            " [0. 0.]]\n"
          ]
        }
      ]
    },
    {
      "cell_type": "code",
      "source": [
        "# ONES\n",
        "o1 = np.ones(4)\n",
        "print(o1)\n",
        "\n",
        "o2 = np.ones((3,2))\n",
        "print(o2)\n",
        "\n",
        "o2*5\n"
      ],
      "metadata": {
        "colab": {
          "base_uri": "https://localhost:8080/"
        },
        "id": "wkpfCA7btiO9",
        "outputId": "7a6d708e-f56d-4471-c01f-cb0300aa3008"
      },
      "execution_count": null,
      "outputs": [
        {
          "output_type": "stream",
          "name": "stdout",
          "text": [
            "[1. 1. 1. 1.]\n",
            "[[1. 1.]\n",
            " [1. 1.]\n",
            " [1. 1.]]\n"
          ]
        },
        {
          "output_type": "execute_result",
          "data": {
            "text/plain": [
              "array([[5., 5.],\n",
              "       [5., 5.],\n",
              "       [5., 5.]])"
            ]
          },
          "metadata": {},
          "execution_count": 21
        }
      ]
    },
    {
      "cell_type": "markdown",
      "source": [
        "**ANOTHER CREATION OPTIONS**"
      ],
      "metadata": {
        "id": "4oWEoVTYvT57"
      }
    },
    {
      "cell_type": "code",
      "source": [
        "# Full\n",
        "\n",
        "f = np.full((3,2),5)\n",
        "print(f)"
      ],
      "metadata": {
        "colab": {
          "base_uri": "https://localhost:8080/"
        },
        "id": "j_Lgnzn1uaHR",
        "outputId": "dfa5cb40-483d-4d54-b7a3-a0ba6c009918"
      },
      "execution_count": null,
      "outputs": [
        {
          "output_type": "stream",
          "name": "stdout",
          "text": [
            "[[5 5]\n",
            " [5 5]\n",
            " [5 5]]\n"
          ]
        }
      ]
    },
    {
      "cell_type": "code",
      "source": [
        "# Lineal sequence\n",
        "\n",
        "np.arange(6)\n",
        "np.arange(23,33)\n",
        "np.arange(23,33,0.5)"
      ],
      "metadata": {
        "colab": {
          "base_uri": "https://localhost:8080/"
        },
        "id": "i6erQ0Hgvp1I",
        "outputId": "0d20303b-91c0-4f7a-84dd-74bfafddeb01"
      },
      "execution_count": null,
      "outputs": [
        {
          "output_type": "execute_result",
          "data": {
            "text/plain": [
              "array([23. , 23.5, 24. , 24.5, 25. , 25.5, 26. , 26.5, 27. , 27.5, 28. ,\n",
              "       28.5, 29. , 29.5, 30. , 30.5, 31. , 31.5, 32. , 32.5])"
            ]
          },
          "metadata": {},
          "execution_count": 26
        }
      ]
    },
    {
      "cell_type": "code",
      "source": [
        "# Linear space\n",
        "\n",
        "np.linspace(15,90,6)"
      ],
      "metadata": {
        "colab": {
          "base_uri": "https://localhost:8080/"
        },
        "id": "w_GNXfn-wk6p",
        "outputId": "f8e3d3d2-39a9-44d4-bb7b-e820847f2a47"
      },
      "execution_count": null,
      "outputs": [
        {
          "output_type": "execute_result",
          "data": {
            "text/plain": [
              "array([15., 30., 45., 60., 75., 90.])"
            ]
          },
          "metadata": {},
          "execution_count": 27
        }
      ]
    },
    {
      "cell_type": "markdown",
      "source": [
        "## 2.5. Random numbers"
      ],
      "metadata": {
        "id": "FBo5PjKRx9Js"
      }
    },
    {
      "cell_type": "markdown",
      "source": [
        "### Uniform distribution (0,1)"
      ],
      "metadata": {
        "id": "wef4glZZvAdO"
      }
    },
    {
      "cell_type": "code",
      "source": [
        "# a single value - between 0 - 1\n",
        "np.random.seed(1234)\n",
        "np.random.rand()"
      ],
      "metadata": {
        "colab": {
          "base_uri": "https://localhost:8080/"
        },
        "id": "iVqwcgSwxxAC",
        "outputId": "fea43e88-666d-4b20-afe4-264a714f055c"
      },
      "execution_count": null,
      "outputs": [
        {
          "output_type": "execute_result",
          "data": {
            "text/plain": [
              "0.1915194503788923"
            ]
          },
          "metadata": {},
          "execution_count": 35
        }
      ]
    },
    {
      "cell_type": "code",
      "source": [
        "# Example - toss a coin\n",
        "\n",
        "if np.random.rand() < 0.5:\n",
        "  print(\"head\")\n",
        "else:\n",
        "  print(\"tails\")\n"
      ],
      "metadata": {
        "colab": {
          "base_uri": "https://localhost:8080/"
        },
        "id": "dpks2atAyb8L",
        "outputId": "3759e879-bd6e-4cf3-9815-84dbc185c66a"
      },
      "execution_count": null,
      "outputs": [
        {
          "output_type": "stream",
          "name": "stdout",
          "text": [
            "head\n"
          ]
        }
      ]
    },
    {
      "cell_type": "code",
      "source": [
        "# Example 2\n",
        "if np.random.rand() < 0.25:\n",
        "  print(\"You win\")\n",
        "else:\n",
        "  print(\"You lose\")\n"
      ],
      "metadata": {
        "colab": {
          "base_uri": "https://localhost:8080/"
        },
        "id": "NAX1SEyS1cjV",
        "outputId": "45e58d0a-6946-476c-ab94-466127927c47"
      },
      "execution_count": null,
      "outputs": [
        {
          "output_type": "stream",
          "name": "stdout",
          "text": [
            "You win\n"
          ]
        }
      ]
    },
    {
      "cell_type": "code",
      "source": [
        "#Example 3\n",
        "\n",
        "ft= np.random.rand()\n",
        "\n",
        "if ft < 0.5:\n",
        "  print(\"The first toss was head\")\n",
        "else:\n",
        "  print(\"The first toss was tails\")\n",
        "\n",
        "st = np.random.rand()\n",
        "if st < 0.5:\n",
        "  print(\"The second toss was head\")\n",
        "else:\n",
        "  print(\"The second toss was tails\")\n",
        "\n",
        "if ft < 0.5 and st < 0.5:\n",
        "  print(\"You win\")\n",
        "elif ft > 0.5 and st > 0.5:\n",
        "  print(\"You win\")\n",
        "else:\n",
        " print(\"You lose\")  "
      ],
      "metadata": {
        "colab": {
          "base_uri": "https://localhost:8080/"
        },
        "id": "NvBi2y_V1myj",
        "outputId": "7d9e255a-a811-4fd3-c5c8-7dba608f2ea5"
      },
      "execution_count": null,
      "outputs": [
        {
          "output_type": "stream",
          "name": "stdout",
          "text": [
            "The first toss was tails\n",
            "The second toss was tails\n",
            "You win\n"
          ]
        }
      ]
    },
    {
      "cell_type": "code",
      "source": [
        "#Example 5\n",
        "ft= np.random.rand() \n",
        "st = np.random.rand()\n",
        "\n",
        "print(\"The first toss was head,\" if ft < 0.5 else \"The first toss was tails,\",\n",
        "      \"The second toss was head,\" if st < 0.5 else \"The second toss was tails,\", \n",
        "      \"YOU WIN!\" if ft < 0.5 and st < 0.5 else \"YOU LOSE!\")\n"
      ],
      "metadata": {
        "colab": {
          "base_uri": "https://localhost:8080/"
        },
        "id": "eJqPU-l6kI2X",
        "outputId": "b66936fa-03a9-4304-e0fa-4aabd37f5af3"
      },
      "execution_count": null,
      "outputs": [
        {
          "output_type": "stream",
          "name": "stdout",
          "text": [
            "The first toss was tails, The second toss was head, YOU LOSE!\n"
          ]
        }
      ]
    },
    {
      "cell_type": "code",
      "source": [
        "# One dimensional array\n",
        "\n",
        "np.random.rand(5)"
      ],
      "metadata": {
        "id": "rBJtuFHKoUUM",
        "colab": {
          "base_uri": "https://localhost:8080/"
        },
        "outputId": "e97c070c-b38e-4774-9a94-3edb4be6434f"
      },
      "execution_count": null,
      "outputs": [
        {
          "output_type": "execute_result",
          "data": {
            "text/plain": [
              "array([0.14409925, 0.3693503 , 0.83500957, 0.98295564, 0.2833897 ])"
            ]
          },
          "metadata": {},
          "execution_count": 15
        }
      ]
    },
    {
      "cell_type": "code",
      "source": [
        "# Matrix \n",
        "np.random.rand(6,2)"
      ],
      "metadata": {
        "colab": {
          "base_uri": "https://localhost:8080/"
        },
        "id": "z7QS_YuduoCg",
        "outputId": "12cb639d-e448-4238-ba74-58011fd1d228"
      },
      "execution_count": null,
      "outputs": [
        {
          "output_type": "execute_result",
          "data": {
            "text/plain": [
              "array([[0.06534146, 0.54396669],\n",
              "       [0.16774171, 0.38996611],\n",
              "       [0.64145178, 0.96264111],\n",
              "       [0.3763073 , 0.93190123],\n",
              "       [0.35536884, 0.11006601],\n",
              "       [0.44826971, 0.00703775]])"
            ]
          },
          "metadata": {},
          "execution_count": 16
        }
      ]
    },
    {
      "cell_type": "markdown",
      "source": [
        "### Uniform distribution (a,b)"
      ],
      "metadata": {
        "id": "FmF4uAdUvSVe"
      }
    },
    {
      "cell_type": "code",
      "source": [
        "# Single value\n",
        "np.random.uniform(low = -10, high = 0)"
      ],
      "metadata": {
        "colab": {
          "base_uri": "https://localhost:8080/"
        },
        "id": "Vd0U865cu1NV",
        "outputId": "7fb1ba5a-fae2-4726-d919-fc0bb96f2372"
      },
      "execution_count": null,
      "outputs": [
        {
          "output_type": "execute_result",
          "data": {
            "text/plain": [
              "-6.223836017859576"
            ]
          },
          "metadata": {},
          "execution_count": 17
        }
      ]
    },
    {
      "cell_type": "code",
      "source": [
        "# One dimensional array\n",
        "np.random.uniform(low =-10,high =0, size =7)"
      ],
      "metadata": {
        "colab": {
          "base_uri": "https://localhost:8080/"
        },
        "id": "QrqaiwHXvvsQ",
        "outputId": "8bbe531d-406b-4fc4-884f-26a68b2e1809"
      },
      "execution_count": null,
      "outputs": [
        {
          "output_type": "execute_result",
          "data": {
            "text/plain": [
              "array([-4.63877242, -9.64448364, -9.49722287, -2.64611177, -7.4990488 ,\n",
              "       -9.17556062, -0.70934769])"
            ]
          },
          "metadata": {},
          "execution_count": 18
        }
      ]
    },
    {
      "cell_type": "code",
      "source": [
        "# Matrix\n",
        "np.random.uniform(low =-10,high =0, size = (5,2))"
      ],
      "metadata": {
        "colab": {
          "base_uri": "https://localhost:8080/"
        },
        "id": "3-a8tgKawBdE",
        "outputId": "1769b4a9-3f9a-4cb9-e62a-8538de33397a"
      },
      "execution_count": null,
      "outputs": [
        {
          "output_type": "execute_result",
          "data": {
            "text/plain": [
              "array([[-4.29651869, -9.41485662],\n",
              "       [-1.25222136, -1.52315817],\n",
              "       [-1.92925239, -6.39603157],\n",
              "       [-3.71707099, -8.57868021],\n",
              "       [-5.43863417, -7.54088324]])"
            ]
          },
          "metadata": {},
          "execution_count": 20
        }
      ]
    },
    {
      "cell_type": "code",
      "source": [
        "#Exercise\n",
        "\n",
        "for i in range (1,6):\n",
        " vt= np.random.rand()\n",
        "if vt < 0.25:\n",
        "  print(\"Day:\", i, \"Bad Week\")\n",
        "elif 0.25 <vt < 0.75:\n",
        "  print(\"Day:\", i,\"Normal Week\")\n",
        "else:\n",
        "  print(\"Day:\", i,\"Good week\")\n"
      ],
      "metadata": {
        "colab": {
          "base_uri": "https://localhost:8080/"
        },
        "id": "YYBOTxG0wS7j",
        "outputId": "164b13a8-493c-49e6-e4b0-5b69a28b175f"
      },
      "execution_count": 7,
      "outputs": [
        {
          "output_type": "stream",
          "name": "stdout",
          "text": [
            "Day: 5 Good week\n"
          ]
        }
      ]
    },
    {
      "cell_type": "markdown",
      "source": [
        "## Normal distribution"
      ],
      "metadata": {
        "id": "jILG1JoMq9qM"
      }
    },
    {
      "cell_type": "code",
      "source": [
        "# Normal standard\n",
        "\n",
        "np.random.randn()\n",
        "np.random.randn(5)\n",
        "np.random.randn(4,3)"
      ],
      "metadata": {
        "id": "z373URkbzhNE",
        "colab": {
          "base_uri": "https://localhost:8080/"
        },
        "outputId": "5d6a71bb-5e40-47a1-c22e-9e2bcf510b49"
      },
      "execution_count": 10,
      "outputs": [
        {
          "output_type": "execute_result",
          "data": {
            "text/plain": [
              "array([[ 0.02836053,  1.50840182, -1.15917404],\n",
              "       [ 0.65715341, -0.52128519,  0.76039064],\n",
              "       [ 0.16270096,  0.78308417,  0.62837188],\n",
              "       [-0.02700853,  0.25112304, -1.38892298]])"
            ]
          },
          "metadata": {},
          "execution_count": 10
        }
      ]
    },
    {
      "cell_type": "code",
      "source": [
        "# Normal \n",
        "\n",
        "mu = 0.01\n",
        "sigma = 0.1\n",
        "\n",
        "np.random.normal(mu, sigma)\n",
        "np.random.normal(mu, sigma, size = 5)\n",
        "np.random.normal(mu, sigma, size = (3,5))"
      ],
      "metadata": {
        "colab": {
          "base_uri": "https://localhost:8080/"
        },
        "id": "wiX7jH4Prye9",
        "outputId": "83413bef-79de-4009-94f8-d2cb440875aa"
      },
      "execution_count": 14,
      "outputs": [
        {
          "output_type": "execute_result",
          "data": {
            "text/plain": [
              "array([[ 0.1838332 ,  0.02753945, -0.16454864, -0.01784541,  0.3257516 ],\n",
              "       [-0.14345884, -0.04029314,  0.04983814, -0.09811578, -0.14454734],\n",
              "       [ 0.13420505, -0.105704  ,  0.02108856,  0.1756098 ,  0.11268916]])"
            ]
          },
          "metadata": {},
          "execution_count": 14
        }
      ]
    },
    {
      "cell_type": "code",
      "source": [],
      "metadata": {
        "id": "kgnvdlDosTLL"
      },
      "execution_count": null,
      "outputs": []
    }
  ]
}