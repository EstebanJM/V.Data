{
  "nbformat": 4,
  "nbformat_minor": 0,
  "metadata": {
    "colab": {
      "provenance": [],
      "authorship_tag": "ABX9TyNij9JEXqRnEoPYFmdS/fAy",
      "include_colab_link": true
    },
    "kernelspec": {
      "name": "python3",
      "display_name": "Python 3"
    },
    "language_info": {
      "name": "python"
    }
  },
  "cells": [
    {
      "cell_type": "markdown",
      "metadata": {
        "id": "view-in-github",
        "colab_type": "text"
      },
      "source": [
        "<a href=\"https://colab.research.google.com/github/EstebanJM/V.Data/blob/main/02_Phyton_variables.ipynb\" target=\"_parent\"><img src=\"https://colab.research.google.com/assets/colab-badge.svg\" alt=\"Open In Colab\"/></a>"
      ]
    },
    {
      "cell_type": "markdown",
      "source": [
        "# **1. What is a varible?**\n",
        "\n",
        "A variable is a \"container\", in the sense that it *stores* values"
      ],
      "metadata": {
        "id": "jYSHgY-DwlAa"
      }
    },
    {
      "cell_type": "code",
      "execution_count": 1,
      "metadata": {
        "colab": {
          "base_uri": "https://localhost:8080/"
        },
        "id": "PcmY6-YDwe6H",
        "outputId": "4e8071d8-f8c1-43ab-b4c0-cc6de07855ab"
      },
      "outputs": [
        {
          "output_type": "stream",
          "name": "stdout",
          "text": [
            "2.57\n"
          ]
        }
      ],
      "source": [
        "#Example\n",
        "\n",
        "a = 2.57\n",
        "print (a)\n"
      ]
    },
    {
      "cell_type": "code",
      "source": [
        "num = 10.35463463\n",
        "pi = 0\n",
        "pf = 7\n",
        "\n",
        "print(\"the approximation of\", num, \"with:\")\n",
        "print(\"Decimals\", \"\\t\", \"Result\")\n",
        "for i in range (pi,pf+1): print(i, \"\\t\", \"\\t\", (round(num,i)))"
      ],
      "metadata": {
        "colab": {
          "base_uri": "https://localhost:8080/"
        },
        "id": "PG_3ARY3xPGp",
        "outputId": "f757354c-0e0a-4903-9da8-216d73d1bce2"
      },
      "execution_count": 2,
      "outputs": [
        {
          "output_type": "stream",
          "name": "stdout",
          "text": [
            "the approximation of 10.35463463 with:\n",
            "Decimals \t Result\n",
            "0 \t \t 10.0\n",
            "1 \t \t 10.4\n",
            "2 \t \t 10.35\n",
            "3 \t \t 10.355\n",
            "4 \t \t 10.3546\n",
            "5 \t \t 10.35463\n",
            "6 \t \t 10.354635\n",
            "7 \t \t 10.3546346\n"
          ]
        }
      ]
    },
    {
      "cell_type": "code",
      "source": [
        "# Example \n",
        "\n",
        "x = y = z = 45\n",
        "print(x,y,z)"
      ],
      "metadata": {
        "id": "w_67eYwKx-Dw",
        "colab": {
          "base_uri": "https://localhost:8080/"
        },
        "outputId": "33b8410b-0843-4374-e50e-84c562b55d0e"
      },
      "execution_count": 13,
      "outputs": [
        {
          "output_type": "stream",
          "name": "stdout",
          "text": [
            "45 45 45\n"
          ]
        }
      ]
    },
    {
      "cell_type": "code",
      "source": [
        "# Example replace values\n",
        "\n",
        "z=17\n",
        "print(z)"
      ],
      "metadata": {
        "colab": {
          "base_uri": "https://localhost:8080/"
        },
        "id": "TtZN7zehoyiu",
        "outputId": "02ef83c7-1ea0-4b56-ba45-0496b98bd347"
      },
      "execution_count": 6,
      "outputs": [
        {
          "output_type": "stream",
          "name": "stdout",
          "text": [
            "17\n"
          ]
        }
      ]
    },
    {
      "cell_type": "markdown",
      "source": [
        "# Delete and clear"
      ],
      "metadata": {
        "id": "-sCuAUcrpVWs"
      }
    },
    {
      "cell_type": "code",
      "source": [
        "# example - delete\n",
        "\n",
        "del x, y"
      ],
      "metadata": {
        "id": "tHZcpeBbpMUZ"
      },
      "execution_count": 14,
      "outputs": []
    },
    {
      "cell_type": "code",
      "source": [
        "# Example - clear\n",
        "\n",
        "%reset"
      ],
      "metadata": {
        "colab": {
          "base_uri": "https://localhost:8080/"
        },
        "id": "2zR7tNmuqEg7",
        "outputId": "c67529ad-05e6-4712-d0f6-5f9f070cb022"
      },
      "execution_count": 15,
      "outputs": [
        {
          "name": "stdout",
          "output_type": "stream",
          "text": [
            "Once deleted, variables cannot be recovered. Proceed (y/[n])? y\n"
          ]
        }
      ]
    },
    {
      "cell_type": "markdown",
      "source": [
        "# **Naming**\n"
      ],
      "metadata": {
        "id": "PVYPkOMlqYbV"
      }
    },
    {
      "cell_type": "markdown",
      "source": [
        "## Conditions and restirctions"
      ],
      "metadata": {
        "id": "udIP80RzqiWH"
      }
    },
    {
      "cell_type": "code",
      "source": [
        "# Example - Always a name of variable must start with a letter\n",
        "\n",
        "age = 22"
      ],
      "metadata": {
        "id": "Onchx6fCqSN3"
      },
      "execution_count": 16,
      "outputs": []
    },
    {
      "cell_type": "markdown",
      "source": [
        "## best practices\n",
        "\n",
        "* Case sensitive "
      ],
      "metadata": {
        "id": "iwwdmpaPrKs6"
      }
    },
    {
      "cell_type": "code",
      "source": [
        "#Example\n",
        "age = 78\n",
        "AGE = 20\n",
        "\n",
        "#sug: always use lower case"
      ],
      "metadata": {
        "id": "UsBmD-nEq180"
      },
      "execution_count": 18,
      "outputs": []
    },
    {
      "cell_type": "markdown",
      "source": [
        "##Compound names"
      ],
      "metadata": {
        "id": "_g7lQHgfr0YD"
      }
    },
    {
      "cell_type": "code",
      "source": [
        "#Example\n",
        "\n",
        "price_jean = 100000"
      ],
      "metadata": {
        "id": "v7UBUXfMrkWf"
      },
      "execution_count": 19,
      "outputs": []
    },
    {
      "cell_type": "markdown",
      "source": [
        "#Data types"
      ],
      "metadata": {
        "id": "HTBcvH7OsqxW"
      }
    },
    {
      "cell_type": "markdown",
      "source": [
        "## Integers"
      ],
      "metadata": {
        "id": "4CEWGad5stuj"
      }
    },
    {
      "cell_type": "markdown",
      "source": [
        "## Float"
      ],
      "metadata": {
        "id": "q7X7rUDxswYc"
      }
    },
    {
      "cell_type": "markdown",
      "source": [
        "##A trick"
      ],
      "metadata": {
        "id": "BtAzf7cts0Kq"
      }
    },
    {
      "cell_type": "code",
      "source": [
        "#Example - set up\n",
        "\n",
        "w=0"
      ],
      "metadata": {
        "id": "3PuK6sw0sQ2u"
      },
      "execution_count": 21,
      "outputs": []
    },
    {
      "cell_type": "code",
      "source": [
        "# Example\n",
        "\n",
        "w +=2\n",
        "print(w)"
      ],
      "metadata": {
        "colab": {
          "base_uri": "https://localhost:8080/"
        },
        "id": "jxz6RBFKtFxh",
        "outputId": "40825398-f23e-485c-8d8c-641065d583a7"
      },
      "execution_count": 27,
      "outputs": [
        {
          "output_type": "stream",
          "name": "stdout",
          "text": [
            "6\n"
          ]
        }
      ]
    },
    {
      "cell_type": "markdown",
      "source": [
        "### Text"
      ],
      "metadata": {
        "id": "WCicZ473tkXu"
      }
    },
    {
      "cell_type": "code",
      "source": [
        "# Example\n",
        "\n",
        "name = \"Universidad de La Salle\"\n",
        "print(name)"
      ],
      "metadata": {
        "colab": {
          "base_uri": "https://localhost:8080/"
        },
        "id": "Ht_rBj70tQTS",
        "outputId": "140dba1f-53d8-474d-8548-cd2994be458c"
      },
      "execution_count": 29,
      "outputs": [
        {
          "output_type": "stream",
          "name": "stdout",
          "text": [
            "Universidad de La Salle\n"
          ]
        }
      ]
    },
    {
      "cell_type": "code",
      "source": [
        "name[-1]"
      ],
      "metadata": {
        "colab": {
          "base_uri": "https://localhost:8080/",
          "height": 36
        },
        "id": "OhotpMlpt_HD",
        "outputId": "af93bc86-658e-4cec-b487-db956f3ed637"
      },
      "execution_count": 38,
      "outputs": [
        {
          "output_type": "execute_result",
          "data": {
            "text/plain": [
              "'e'"
            ],
            "application/vnd.google.colaboratory.intrinsic+json": {
              "type": "string"
            }
          },
          "metadata": {},
          "execution_count": 38
        }
      ]
    },
    {
      "cell_type": "code",
      "source": [
        "name[0:11]"
      ],
      "metadata": {
        "colab": {
          "base_uri": "https://localhost:8080/",
          "height": 36
        },
        "id": "IXB8lrMmuonY",
        "outputId": "f0706fe2-e7dd-47a6-b22a-2666bc4c5922"
      },
      "execution_count": 40,
      "outputs": [
        {
          "output_type": "execute_result",
          "data": {
            "text/plain": [
              "'Universidad'"
            ],
            "application/vnd.google.colaboratory.intrinsic+json": {
              "type": "string"
            }
          },
          "metadata": {},
          "execution_count": 40
        }
      ]
    },
    {
      "cell_type": "code",
      "source": [
        "name.split()[0]"
      ],
      "metadata": {
        "colab": {
          "base_uri": "https://localhost:8080/",
          "height": 36
        },
        "id": "cKDyizUavBS5",
        "outputId": "4fd7f9a4-b8ea-41c6-ed0e-bd111974eae1"
      },
      "execution_count": 43,
      "outputs": [
        {
          "output_type": "execute_result",
          "data": {
            "text/plain": [
              "'Universidad'"
            ],
            "application/vnd.google.colaboratory.intrinsic+json": {
              "type": "string"
            }
          },
          "metadata": {},
          "execution_count": 43
        }
      ]
    },
    {
      "cell_type": "code",
      "source": [],
      "metadata": {
        "id": "mPePxThMvVhb"
      },
      "execution_count": null,
      "outputs": []
    }
  ]
}