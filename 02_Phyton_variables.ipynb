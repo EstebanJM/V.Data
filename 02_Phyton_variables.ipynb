{
  "nbformat": 4,
  "nbformat_minor": 0,
  "metadata": {
    "colab": {
      "provenance": [],
      "authorship_tag": "ABX9TyPAzfT0vo+bUGLCaDccTH69",
      "include_colab_link": true
    },
    "kernelspec": {
      "name": "python3",
      "display_name": "Python 3"
    },
    "language_info": {
      "name": "python"
    }
  },
  "cells": [
    {
      "cell_type": "markdown",
      "metadata": {
        "id": "view-in-github",
        "colab_type": "text"
      },
      "source": [
        "<a href=\"https://colab.research.google.com/github/EstebanJM/V.Data/blob/main/02_Phyton_variables.ipynb\" target=\"_parent\"><img src=\"https://colab.research.google.com/assets/colab-badge.svg\" alt=\"Open In Colab\"/></a>"
      ]
    },
    {
      "cell_type": "markdown",
      "source": [
        "# **1. What is a varible?**\n",
        "\n",
        "A variable is a \"container\", in the sense that it *stores* values"
      ],
      "metadata": {
        "id": "jYSHgY-DwlAa"
      }
    },
    {
      "cell_type": "code",
      "execution_count": 3,
      "metadata": {
        "colab": {
          "base_uri": "https://localhost:8080/"
        },
        "id": "PcmY6-YDwe6H",
        "outputId": "8133446c-c369-4edd-db97-9d36f69e0799"
      },
      "outputs": [
        {
          "output_type": "stream",
          "name": "stdout",
          "text": [
            "2.57\n"
          ]
        }
      ],
      "source": [
        "#Example\n",
        "\n",
        "a = 2.57\n",
        "print (a)\n"
      ]
    },
    {
      "cell_type": "code",
      "source": [
        "num = 10.35463463\n",
        "pi = 0\n",
        "pf = 7\n",
        "\n",
        "print(\"the approximation of\", num, \"with:\")\n",
        "print(\"Decimals\", \"\\t\", \"Result\")\n",
        "for i in range (pi,pf+1): print(i, \"\\t\", \"\\t\", (round(num,i)))"
      ],
      "metadata": {
        "colab": {
          "base_uri": "https://localhost:8080/"
        },
        "id": "PG_3ARY3xPGp",
        "outputId": "01cc357f-a2fe-48aa-c718-77b6b835bccb"
      },
      "execution_count": 8,
      "outputs": [
        {
          "output_type": "stream",
          "name": "stdout",
          "text": [
            "the approximation of 10.35463463 with:\n",
            "Decimals \t Result\n",
            "0 \t \t 10.0\n",
            "1 \t \t 10.4\n",
            "2 \t \t 10.35\n",
            "3 \t \t 10.355\n",
            "4 \t \t 10.3546\n",
            "5 \t \t 10.35463\n",
            "6 \t \t 10.354635\n",
            "7 \t \t 10.3546346\n"
          ]
        }
      ]
    },
    {
      "cell_type": "code",
      "source": [],
      "metadata": {
        "id": "w_67eYwKx-Dw"
      },
      "execution_count": null,
      "outputs": []
    }
  ]
}