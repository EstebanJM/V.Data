{
  "cells": [
    {
      "cell_type": "markdown",
      "metadata": {
        "id": "view-in-github",
        "colab_type": "text"
      },
      "source": [
        "<a href=\"https://colab.research.google.com/github/EstebanJM/V.Data/blob/main/TALLER_1_BIG_DATA.ipynb\" target=\"_parent\"><img src=\"https://colab.research.google.com/assets/colab-badge.svg\" alt=\"Open In Colab\"/></a>"
      ]
    },
    {
      "cell_type": "markdown",
      "metadata": {
        "id": "oTCMrqLKieY3"
      },
      "source": [
        "#**TALLER 1**"
      ]
    },
    {
      "cell_type": "markdown",
      "metadata": {
        "id": "LfduoVEkirdn"
      },
      "source": [
        "**INTEGRANTES**\n",
        "\n",
        "\n",
        "*   Michael Esteban Jiménez Medina - codigo 63191002\n",
        "*   David Hernandez Sicachá - codigo 63191100\n",
        "*   Diego Johan Lopez Fonseca - codigo 63201044\n",
        "\n"
      ]
    },
    {
      "cell_type": "code",
      "execution_count": null,
      "metadata": {
        "colab": {
          "base_uri": "https://localhost:8080/"
        },
        "id": "PBBuRKd7j4Zg",
        "outputId": "f904181e-7f37-40eb-fbaf-2a3052360350"
      },
      "outputs": [
        {
          "name": "stdout",
          "output_type": "stream",
          "text": [
            "Ingresa tu nombre: Mario\n",
            "Ingresa tu edad: 12\n",
            "Hola  Mario , tu edad es de 12 años\n"
          ]
        }
      ],
      "source": [
        "# 1. Define dos variables, nombre y edad, e imprime un mensaje de saludo que las utilice.\n",
        "\n",
        "nombre = input(\"Ingresa tu nombre: \")\n",
        "edad = input(\"Ingresa tu edad: \")\n",
        "print(\"Hola \",nombre,\", tu edad es de\", edad, \"años\")"
      ]
    },
    {
      "cell_type": "code",
      "execution_count": null,
      "metadata": {
        "colab": {
          "base_uri": "https://localhost:8080/"
        },
        "id": "PS0u3DB-kP3W",
        "outputId": "84513ae1-bd33-4889-9faf-f617c515c76d"
      },
      "outputs": [
        {
          "name": "stdout",
          "output_type": "stream",
          "text": [
            "Ingrese el radio del círculo: 5\n",
            "El área del círculo es: 78.53981633974483\n"
          ]
        }
      ],
      "source": [
        "#2. Calcula y muestra el área de un círculo. Pide al usuario que ingrese el radio.\n",
        "\n",
        "# Se importa libreria para poner pi\n",
        "import math\n",
        "#Se definen las variables\n",
        "radio = float(input(\"Ingrese el radio del círculo: \"))\n",
        "area = math.pi * radio ** 2\n",
        "#Se imprime\n",
        "print(\"El área del círculo es:\", area)"
      ]
    },
    {
      "cell_type": "code",
      "execution_count": null,
      "metadata": {
        "id": "tSi_ld42Ag5m",
        "colab": {
          "base_uri": "https://localhost:8080/"
        },
        "outputId": "584fa984-682f-412b-a3eb-ad3a3a811fd3"
      },
      "outputs": [
        {
          "output_type": "stream",
          "name": "stdout",
          "text": [
            "El promedio de la lista de numeros es: 27.25\n"
          ]
        }
      ],
      "source": [
        "#3. Escribe una función calcular_promedio que tome una lista de números como argumento y devuelva su promedio.\n",
        "\n",
        "def calcular_promedio(lista_numeros):\n",
        "\n",
        "    suma_total = sum(lista_numeros)     # Calcula la suma de todos los números en la lista\n",
        "    promedio = suma_total / len(lista_numeros)  # Calcula el promedio dividiendo la suma entre la cantidad de elementos\n",
        "    promedio = round(promedio, 2)     # Redondea el promedio a dos decimales para no extender el resultado\n",
        "\n",
        "    return promedio     #  para devolver el promedio calculado\n",
        "\n",
        "# Con una lista de numero especifica:\n",
        "\n",
        "ListaN = [24, 78, 2, 15, 10, 7, 39, 43]\n",
        "\n",
        "promedio_resultado = calcular_promedio(ListaN)   # Calcula el promedio de la lista utilizando la función escrita\n",
        "print(\"El promedio de la lista de numeros es:\", promedio_resultado)   # muestra el resultado\n"
      ]
    },
    {
      "cell_type": "code",
      "execution_count": null,
      "metadata": {
        "id": "MhOaYc5mAi8H",
        "colab": {
          "base_uri": "https://localhost:8080/"
        },
        "outputId": "b25c2db2-d163-4a90-a108-97b4b7913e6f"
      },
      "outputs": [
        {
          "output_type": "stream",
          "name": "stdout",
          "text": [
            "menores: []\n",
            "mayores: [55]\n",
            "------------------------------\n",
            "menores: []\n",
            "mayores: [55, 12]\n",
            "------------------------------\n",
            "menores: [2]\n",
            "mayores: [55, 12]\n",
            "------------------------------\n",
            "menores: [2]\n",
            "mayores: [55, 12, 32]\n",
            "------------------------------\n",
            "menores: [2, 1]\n",
            "mayores: [55, 12, 32]\n",
            "------------------------------\n",
            "menores: [2, 1]\n",
            "mayores: [55, 12, 32, 14]\n",
            "------------------------------\n",
            "menores: [2, 1, 3]\n",
            "mayores: [55, 12, 32, 14]\n",
            "------------------------------\n",
            "menores: [2, 1, 3, 2]\n",
            "mayores: [55, 12, 32, 14]\n",
            "------------------------------\n",
            "menores: [2, 1, 3, 2, 4]\n",
            "mayores: [55, 12, 32, 14]\n",
            "------------------------------\n",
            "menores: [2, 1, 3, 2, 4, 5]\n",
            "mayores: [55, 12, 32, 14]\n",
            "------------------------------\n",
            "menores: [2, 1, 3, 2, 4, 5]\n",
            "mayores: [55, 12, 32, 14, 155]\n",
            "------------------------------\n",
            "menores: [2, 1, 3, 2, 4, 5]\n",
            "mayores: [55, 12, 32, 14, 155, 11]\n",
            "------------------------------\n",
            "menores: [2, 1, 3, 2, 4, 5]\n",
            "mayores: [55, 12, 32, 14, 155, 11, 15]\n",
            "------------------------------\n"
          ]
        }
      ],
      "source": [
        "#4. Crea una lista de números y utiliza un bucle for para mostrar los números mayores que 10.\n",
        "\n",
        "lista_menores = [] ##Lista para los números menores que 10\n",
        "lista_mayores = [] ##Lista para los números mayores que 10\n",
        "l4 = [55,12,2,32,1,14,3,2,4,5,155,11,15]  ##Lista de números\n",
        "for num in l4:\n",
        "  if num <10:\n",
        "    lista_menores.append(num) ##Condicional que si se cumple, guarda el número en la lista menores.\n",
        "  else:\n",
        "    lista_mayores.append(num) ##Si no se cumple lo anterior, guarda el número en la lisra mayores.\n",
        "\n",
        "  print(f\"menores: {lista_menores}\") ##Imprime la lista de menores\n",
        "\n",
        "  print(f\"mayores: {lista_mayores}\") ##Imprime la lista de mayores\n",
        "  print('---' * 10)"
      ]
    },
    {
      "cell_type": "code",
      "execution_count": null,
      "metadata": {
        "colab": {
          "base_uri": "https://localhost:8080/"
        },
        "id": "y__gZBCEl4eT",
        "outputId": "62fd832d-fb2f-49a9-98d0-ce2bf7047b19"
      },
      "outputs": [
        {
          "name": "stdout",
          "output_type": "stream",
          "text": [
            "Ingresa producto: Gaseosa\n"
          ]
        },
        {
          "output_type": "execute_result",
          "data": {
            "text/plain": [
              "2500"
            ]
          },
          "metadata": {},
          "execution_count": 4
        }
      ],
      "source": [
        "# 5. Define un diccionario que almacene los precios de tres productos diferentes. Pide al usuario que ingrese el nombre de un producto y muestra su precio.\n",
        "\n",
        "#Crear diccionario\n",
        "d={'Agua': 2000,\n",
        "   'Gaseosa':2500,\n",
        "   'Jugo':3200}\n",
        "# Funcion para que el usuario escriba el nombre del producto\n",
        "d[input(\"Ingresa producto: \")]"
      ]
    },
    {
      "cell_type": "code",
      "source": [
        "#6. Escribe una función es_primo que determine si un número dado es primo o no.\n",
        "\n",
        "def es_primo(numero):\n",
        "\n",
        "    if numero <= 1:     # se incluyen casos especiales para números menores que 2\n",
        "        return False\n",
        "\n",
        "    for divisor in range(2, int(numero ** 0.5) + 1):     #  Se establece una iteracion a través de los posibles divisores del número\n",
        "        if numero % divisor == 0:\n",
        "            return False\n",
        "\n",
        "    return True     # Si no se encontraron divisores, determinara que el número es primo\n",
        "\n",
        "numero = int(input(\"Ingrese un número: \"))\n",
        "resultado = es_primo(numero)    # Se verifica, utilizando la función, si el número especificado es primo o no\n",
        "\n",
        "if resultado:\n",
        "    print(f\"{numero} es un número primo.\")     # imprime el numero especificado determinando que dicho numero es primo\n",
        "else:\n",
        "    print(f\"{numero} no es un número primo.\")  # imprime el numero especificado determinando que dicho numero no es primo"
      ],
      "metadata": {
        "colab": {
          "base_uri": "https://localhost:8080/"
        },
        "id": "87VHw6DnzjLn",
        "outputId": "606fb22e-ec78-4de0-bbc0-02a8679652a8"
      },
      "execution_count": null,
      "outputs": [
        {
          "output_type": "stream",
          "name": "stdout",
          "text": [
            "Ingrese un número: 67\n",
            "67 es un número primo.\n"
          ]
        }
      ]
    },
    {
      "cell_type": "code",
      "execution_count": null,
      "metadata": {
        "colab": {
          "base_uri": "https://localhost:8080/"
        },
        "id": "zCwnvDdtrgfS",
        "outputId": "473eb592-2040-4db4-e800-25ac3946c1bf"
      },
      "outputs": [
        {
          "name": "stdout",
          "output_type": "stream",
          "text": [
            "Mario\n",
            "Esteban\n",
            "Pedro\n",
            "Helena\n",
            "Alex\n"
          ]
        }
      ],
      "source": [
        "#7. Crea una lista de nombres y utiliza un bucle while para imprimir cada nombre hasta que encuentres el nombre \"Alex\".\n",
        "\n",
        "nombres = [\"Mario\", \"Esteban\", \"Pedro\", \"Helena\", \"Alex\", \"Mauro\", \"Juan\", \"David\", \"Leonel\"]\n",
        "x = 0 ##Variable 0 para usar en el bucle\n",
        "while x < len(nombres): ##bucle que se ejecuta hasta que encuentre el nombre Alex\n",
        "  nombre = nombres[x] ##Selecciona el nombre en la posición c de la lista\n",
        "  print(nombre) ## Imprime los nombres anteriores a Alex.\n",
        "  if nombre == \"Alex\":\n",
        "    break  ##Si aparece el nombre Alex, el bucle se detiene\n",
        "  x += 1   ##Se incrementa en 1, para pasar al siguiente nombre"
      ]
    },
    {
      "cell_type": "code",
      "execution_count": null,
      "metadata": {
        "colab": {
          "base_uri": "https://localhost:8080/"
        },
        "id": "ydLBrid2Jy4i",
        "outputId": "2cdddd7b-75b6-4c71-cff2-5b9bcd677e9e"
      },
      "outputs": [
        {
          "output_type": "stream",
          "name": "stdout",
          "text": [
            "Escriba frase o palabra: me llamo carlos\n",
            "solrac omall em\n"
          ]
        }
      ],
      "source": [
        "# 8. Escribe una función invertir_cadena que tome una cadena como argumento y devuelva la cadena invertida.\n",
        "\n",
        "# Se crea función y argumento con def, se crea un bucle con for para invertir la palabra o frase\n",
        "def invertir_cadena(cadena):\n",
        "  inv = \"\"\n",
        "  for caracter in cadena[::-1]:\n",
        "    inv += caracter\n",
        "  return inv\n",
        "# Se pide al usuario que escriba frase o palabra\n",
        "cadena = input(\"Escriba frase o palabra: \")\n",
        "inv = invertir_cadena(cadena)\n",
        "print(inv)"
      ]
    },
    {
      "cell_type": "code",
      "execution_count": null,
      "metadata": {
        "id": "Bv_uWUhbA4t-",
        "colab": {
          "base_uri": "https://localhost:8080/"
        },
        "outputId": "b4edd8fb-e35a-44b5-ae24-4eb950c5f508"
      },
      "outputs": [
        {
          "output_type": "stream",
          "name": "stdout",
          "text": [
            "Lista de números pares: [2, 4, 6, 8, 10, 12, 14, 16, 18, 20]\n"
          ]
        }
      ],
      "source": [
        "#9. Crea una lista de números pares del 2 al 20 utilizando una comprensión de lista.\n",
        "\n",
        "NP = [numero for numero in range(2, 21) if numero % 2 == 0]   # se Utiliza una comprensión de lista para generar la lista de números pares\n",
        "\n",
        "#Donde: numero - representara cada numero en el rango y la variable que tomara cada valor en el rango\n",
        "#       Range -  sera el iterable para recorrer el rango de numeros del 2 al 21\n",
        "#       numero % 2 == 0 - representara la condicion para filtrar solo los numero pares de ese rango de numeros\n",
        "\n",
        "print(\"Lista de números pares:\", NP)  # Imprime la lista de números pares"
      ]
    },
    {
      "cell_type": "code",
      "execution_count": null,
      "metadata": {
        "colab": {
          "base_uri": "https://localhost:8080/"
        },
        "id": "VKAVBlZcA3eJ",
        "outputId": "2b7f53fa-4b97-4cbf-a87c-38c9a3f6bd2f"
      },
      "outputs": [
        {
          "name": "stdout",
          "output_type": "stream",
          "text": [
            "Ingrese el número de términos que desea mostrar en la serie: 11\n",
            "0, 1, 1, 2, 3, 5, 8, 13, 21, 34, 55, "
          ]
        }
      ],
      "source": [
        "# 10. Escribe un programa que genere los primeros n términos de la serie de Fibonacci a discresión del usuario.\n",
        "\n",
        "cantidad_terminos = int(input('Ingrese el número de términos que desea mostrar en la serie: '))\n",
        "primer_termino = 0 ##Para representar el primer termino de la serie, se inicializa una variable con valor cero.\n",
        "segundo_termino = 1 ##Para representar el segundo termino de la serie, se inicializa una variable con valor uno.\n",
        "contador = 1 ##Dicha variable llevará la cuenta de los terminos que se han generado.\n",
        "\n",
        "while contador <= cantidad_terminos: ##Bucle que se ejecuta si la contador es igual a la cantidad de términos\n",
        "  if contador % 2 == 1: ##comprueba si el valor de la variable contador es impar.\n",
        "    print(primer_termino, end=\", \") ##Si lo anterior se cumple, se imprime el primer término\n",
        "    primer_termino += segundo_termino\n",
        "  else:\n",
        "    print(segundo_termino, end=\", \") ##de lo contrario se imprime el segundo término\n",
        "    segundo_termino += primer_termino ##Le suma al segundo término, el primer término\n",
        "  contador += 1  ##Incrementa el valor del contador en uno\n"
      ]
    },
    {
      "cell_type": "code",
      "execution_count": null,
      "metadata": {
        "colab": {
          "base_uri": "https://localhost:8080/"
        },
        "id": "WUuZQ6PTp7VS",
        "outputId": "77c8b9f0-f239-48e0-e747-209166e63cfe"
      },
      "outputs": [
        {
          "name": "stdout",
          "output_type": "stream",
          "text": [
            "Ingresa monto inicial 20000000\n",
            "Ingresa la tasa de interés 0.10\n",
            "Tiempo en años 1\n",
            "El resultado es: 2000000.0\n"
          ]
        }
      ],
      "source": [
        "# 11. Escribe una función calcular_interes_simple que calcule el interés simple dado el principal, la tasa de interés y el tiempo en años.\n",
        "# Crear variables, se puso float para que permita multiplicar la tasa\n",
        "Capital = float(input('Ingresa monto inicial '))\n",
        "Interes = float(input('Ingresa la tasa de interés '))\n",
        "Tiempo = float(input('Tiempo en años '))\n",
        "# Crear una variable con la operación correspondiente e imprimirla\n",
        "R= Capital * Interes * Tiempo\n",
        "print(\"El resultado es:\",R)"
      ]
    },
    {
      "cell_type": "code",
      "source": [
        "#12. Crea una lista de precios de acciones. Utiliza una función para calcular el promedio de esos precios.\n",
        "\n",
        "def calcular_promedio_precios(precios):\n",
        "\n",
        "    suma_total = sum(precios) # Calcula la suma total de los precios\n",
        "    promedio = suma_total / len(precios)  # Calcula el promedio dividiendo la suma total entre la cantidad de precios\n",
        "    promedio = round(promedio, 2) # permite redondear el promedio a dos decimales, para no extender el resultado\n",
        "\n",
        "    return promedio    # Devuelve el promedio calculado\n",
        "\n",
        "# Suponiendo la siguiente lista de precios de acciones:\n",
        "PA = [28.10, 35.30, 33.60, 22.20, 27.40, 31.10]\n",
        "PN = calcular_promedio_precios(PA)  # Calcula el promedio de la lista de precios utilizando la funcion\n",
        "\n",
        "print(\"El promedio de precios de las acciones es:\", PN)  # Imprime el resultado\n"
      ],
      "metadata": {
        "colab": {
          "base_uri": "https://localhost:8080/"
        },
        "id": "mFKyBYOw1tSY",
        "outputId": "5f7c7b30-45a5-4770-a2b5-dd68d9a0793c"
      },
      "execution_count": null,
      "outputs": [
        {
          "output_type": "stream",
          "name": "stdout",
          "text": [
            "El promedio de precios de las acciones es: 29.62\n"
          ]
        }
      ]
    },
    {
      "cell_type": "code",
      "execution_count": null,
      "metadata": {
        "colab": {
          "base_uri": "https://localhost:8080/"
        },
        "id": "CBp_df8hBAJh",
        "outputId": "27cb5e01-183e-4346-91be-d28ca3ea88d0"
      },
      "outputs": [
        {
          "output_type": "stream",
          "name": "stdout",
          "text": [
            "Ingresa la cantidad de dólares a convertir: $500\n",
            "La cantidad total es 460.0 Euros\n"
          ]
        }
      ],
      "source": [
        "#13. Escribe una función convertir_dolares_a_euros que tome una cantidad en dólares y la convierta a euros (usando una tasa de cambio fija).\n",
        "\n",
        "dls = float(input(\"Ingresa la cantidad de dólares a convertir: $\"))\n",
        "tasa = 0.92 ##Tasa fija, un dolar equivale en este caso, a 0.92 euros\n",
        "convertir_dolares_a_euros  = dls * tasa ##Se inicializa una nueva variable para la conversión, se multiplica la cantidad de dólares por la tasa de cambio\n",
        "print (\"La cantidad total es\" ,convertir_dolares_a_euros , \"Euros\")"
      ]
    },
    {
      "cell_type": "code",
      "execution_count": null,
      "metadata": {
        "colab": {
          "base_uri": "https://localhost:8080/"
        },
        "id": "cjgJCDUdqArL",
        "outputId": "796bbe26-4b14-4d69-b833-1881d6ea63d2"
      },
      "outputs": [
        {
          "name": "stdout",
          "output_type": "stream",
          "text": [
            "Ingresa un numero 5\n",
            "resultado = 120\n"
          ]
        }
      ],
      "source": [
        "# 14. Crea una función calcular_factorial que calcule el factorial de un número dado.\n",
        "\n",
        "# Se crea variable para el ingreso del numero a calcular su factorial\n",
        "n = int(input('Ingresa un numero '))\n",
        "# Se condiciona, si es igual a 0 o 1 su resultado es 1, si es mayor a 1 se procede hacer el calculo\n",
        "if n == 0 or n == 1:\n",
        "  print('resultado = 1')\n",
        "elif n>1:\n",
        "  print('resultado =', math.factorial(n))\n"
      ]
    },
    {
      "cell_type": "code",
      "source": [
        "#15. Define un diccionario que contenga los nombres y saldos de cuentas bancarias. Escribe una función que encuentre la cuenta con el saldo más alto.\n",
        "\n",
        "cuentas_bancarias = {                               # se crea un diccionario con nombres y saldos de las cuentas bancarias\n",
        "                      \"Cuenta bancaria 1\": 550000,\n",
        "                      \"Cuenta bancaria 2\": 750000,\n",
        "                      \"Cuenta bancaria 3\": 240000,\n",
        "                      \"Cuenta bancaria 4\": 370000\n",
        "}\n",
        "\n",
        "def Cuenta_mayor(cuentas):\n",
        "\n",
        "    cuenta_maxima = max(cuentas, key=cuentas.get)   # Encontra la clave (nombre de la cuenta) con el valor (saldo) máximo en el diccionario.\n",
        "    saldo_maximo = cuentas[cuenta_maxima]\n",
        "\n",
        "    return cuenta_maxima, saldo_maximo    # Devuelve el nombre de la cuenta y su saldo máximo\n",
        "\n",
        "cuenta_maxima, saldo_maximo = Cuenta_mayor(cuentas_bancarias)\n",
        "\n",
        "print(f\"La cuenta con el saldo más alto es la {cuenta_maxima} con un saldo de ${saldo_maximo}\")  # imprime el resultado de la funcion\n"
      ],
      "metadata": {
        "colab": {
          "base_uri": "https://localhost:8080/"
        },
        "id": "P-3pFe-c3-Gp",
        "outputId": "4f27bdf5-ade1-40e0-ee9c-f514df588670"
      },
      "execution_count": null,
      "outputs": [
        {
          "output_type": "stream",
          "name": "stdout",
          "text": [
            "La cuenta con el saldo más alto es la Cuenta bancaria 2 con un saldo de $750000\n"
          ]
        }
      ]
    },
    {
      "cell_type": "code",
      "execution_count": null,
      "metadata": {
        "id": "3m2yESUABMdQ",
        "colab": {
          "base_uri": "https://localhost:8080/"
        },
        "outputId": "b2e1b56a-0734-42d6-c2f3-f3741435c58c"
      },
      "outputs": [
        {
          "output_type": "stream",
          "name": "stdout",
          "text": [
            "Ingrese la cantidad de números triangulares que desea calcular: 8\n",
            "El número triangular en la posición 1 es: 1\n",
            "El número triangular en la posición 2 es: 3\n",
            "El número triangular en la posición 3 es: 6\n",
            "El número triangular en la posición 4 es: 10\n",
            "El número triangular en la posición 5 es: 15\n",
            "El número triangular en la posición 6 es: 21\n",
            "El número triangular en la posición 7 es: 28\n",
            "El número triangular en la posición 8 es: 36\n"
          ]
        }
      ],
      "source": [
        "#16. Escribe un programa que calcule e imprima los primeros números triangulares a discresión del usuario.\n",
        "\n",
        "def calcular_numero_triangular(n): ##se define una función para el cálculo de números triangulares\n",
        "    return n * (n + 1) // 2\n",
        "\n",
        "cantidad_numeros = int(input(\"Ingrese la cantidad de números triangulares que desea calcular: \")) ##Se le pide al usuario ingresar cuántos números triangulares desea imprimir\n",
        "\n",
        "for i in range(1, cantidad_numeros + 1): ##bucle for para calcular y mostrar cada número triangular\n",
        "    numero_triangular = calcular_numero_triangular(i) ##se usa la fórmula definida para el cálculo de número triangular\n",
        "    print(f\"El número triangular en la posición {i} es: {numero_triangular}\")"
      ]
    },
    {
      "cell_type": "code",
      "execution_count": null,
      "metadata": {
        "colab": {
          "base_uri": "https://localhost:8080/"
        },
        "id": "PDb-sAC1x35C",
        "outputId": "ebaa6ec8-f8a6-4f6a-dee0-4734b9be0a9f"
      },
      "outputs": [
        {
          "output_type": "stream",
          "name": "stdout",
          "text": [
            "Ingresa el precio del producto 100\n",
            "Descuento otorgado 0.1\n",
            "El precio final es:  90.0\n"
          ]
        }
      ],
      "source": [
        "# 17. Crea una función calcular_descuento que calcule el precio final después de aplicar un descuento a un artículo.\n",
        "\n",
        "# Se crea la variable de precio y descuento\n",
        "Precio = float(input('Ingresa el precio del producto ' ))\n",
        "Desc = float(input(\"Descuento otorgado \" ))\n",
        "# Se formula para hallar el precio final con descuento\n",
        "S = Precio * (1 -Desc)\n",
        "print(\"El precio final es: \",S)\n"
      ]
    },
    {
      "cell_type": "code",
      "source": [
        "#18. Escribe una función que tome una lista de números y devuelva una nueva lista con solo los números pares.\n",
        "\n",
        "def filtrar_NP(lista_numeros):\n",
        "\n",
        "    numeros_pares = [numero for numero in lista_numeros if numero % 2 == 0]  # se usa la comprensión de lista para filtrar los números pares\n",
        "    return numeros_pares   # Devuelve la lista de números pares\n",
        "\n",
        "#Suponiendo la siguiente lista de numeros\n",
        "Lista = [2, 9, 24, 59, 23, 67 ,34, 6, 60, 29]\n",
        "\n",
        "resultado_NP = filtrar_NP(Lista)   # Filtra los números pares utilizando la función escrita\n",
        "\n",
        "print(\"Lista principal:\", Lista) # Imprime la primera lista escrita\n",
        "print(\"Nueva lista con los numeros pares:\", resultado_NP)    # Imprime la nueva lista con los numeros pares\n"
      ],
      "metadata": {
        "colab": {
          "base_uri": "https://localhost:8080/"
        },
        "id": "tpyRiyyK6eLT",
        "outputId": "ad60c2b8-0e73-43ae-f808-b7c6da40b423"
      },
      "execution_count": null,
      "outputs": [
        {
          "output_type": "stream",
          "name": "stdout",
          "text": [
            "Lista principal: [2, 9, 24, 59, 23, 67, 34, 6, 60, 29]\n",
            "Nueva lista con los numeros pares: [2, 24, 34, 6, 60]\n"
          ]
        }
      ]
    },
    {
      "cell_type": "code",
      "execution_count": null,
      "metadata": {
        "colab": {
          "base_uri": "https://localhost:8080/"
        },
        "id": "NSURpLrqBU5w",
        "outputId": "30f04480-7dcd-41c2-96fe-0306b8c45d25"
      },
      "outputs": [
        {
          "name": "stdout",
          "output_type": "stream",
          "text": [
            "La lista de números es 512, 1023, 55, 1532, 3, 543, 777, 325, 86, 5565\n",
            "El numero mayor es:  5565\n",
            "El numero mayor es:  3\n"
          ]
        }
      ],
      "source": [
        "#19. Crea una lista de números y utiliza una función para encontrar el número más grande y el más pequeño.\n",
        "\n",
        "l19 = [512, 1023, 55, 1532, 3, 543, 777, 325, 86, 5565]\n",
        "\n",
        "print (\"La lista de números es 512, 1023, 55, 1532, 3, 543, 777, 325, 86, 5565\")\n",
        "\n",
        "def fun(l19): ##Se define la función fun que toma la lista l19 como argumento\n",
        "  print (\"El numero mayor es: \", max(l19)) ##Se imprime el número mayor de la lista\n",
        "  print (\"El numero mayor es: \", min(l19)) ##Se imprime el número menor de la lista\n",
        "\n",
        "fun(l19)"
      ]
    },
    {
      "cell_type": "code",
      "source": [
        "# 20. Escribe un programa que genere e imprima los primeros términos de la secuencia de números de Pell a discresión del usuario.\n",
        "# Se crea función con def, con un bucle for, así toma un valor n y se cumple con la formula 2*n-1+n-2\n",
        "def pell(n):\n",
        "  a = 0\n",
        "  b = 1\n",
        "  for i in range(n):\n",
        "    a, b = b, 2 * b+a\n",
        "    print(a)\n",
        "# Se pide al usuario cuantos terminos de la secuencia quiere generar\n",
        "n = int(input(\"¿Cuántos términos de la secuencia de números de Pell quieres generar? \"))\n",
        "pell(n)"
      ],
      "metadata": {
        "colab": {
          "base_uri": "https://localhost:8080/"
        },
        "id": "fDzmU_Ilo6Nh",
        "outputId": "aaea3f4d-fbd4-4c2a-d905-cd94e05722ec"
      },
      "execution_count": null,
      "outputs": [
        {
          "output_type": "stream",
          "name": "stdout",
          "text": [
            "¿Cuántos términos de la secuencia de números de Pell quieres generar? 6\n",
            "1\n",
            "2\n",
            "5\n",
            "12\n",
            "29\n",
            "70\n"
          ]
        }
      ]
    },
    {
      "cell_type": "code",
      "source": [
        "#21. Crea una función calcular_amortizacion que calcule la amortización de un préstamo a lo largo del tiempo.\n",
        "\n",
        "def calcular_amortizacion(monto_prestamo, tasa_interes_anual, num_cuotas):\n",
        "\n",
        "    tasa_interes_mensual = tasa_interes_anual / 12 / 100   # convertimos la tasa de interés anual a tasa mensual\n",
        "\n",
        "    # si establecemos en la amortizacion una cuota fija mensual, utilizamos la formula de la cuota constante\n",
        "    cuota_fija = monto_prestamo * (tasa_interes_mensual * (1 + tasa_interes_mensual) ** num_cuotas) / ((1 + tasa_interes_mensual) ** num_cuotas - 1)\n",
        "\n",
        "    amortizacion = [] # establecemos una lista para almacenar los detalles de la amortización\n",
        "    saldo_pendiente = monto_prestamo\n",
        "\n",
        "# Calculamos los detalles de amortización para cada cuota\n",
        "\n",
        "    for cuota in range(1, num_cuotas + 1):\n",
        "        interes = saldo_pendiente * tasa_interes_mensual  # Calculamos el interés para esta cuota\n",
        "        capital = cuota_fija - interes  # Calculamos la parte de la cuota que se abona al préstamo principal)\n",
        "        saldo_pendiente -= capital  # Actualizamos el saldo pendiente restando el capital pagado (abonado)\n",
        "\n",
        "# opcionalmente Redondeamos los valores del interés, del capital, del saldo pendiente y la cuota fija a dos decimales\n",
        "\n",
        "        interes = round(interes, 2)\n",
        "        capital = round(capital, 2)\n",
        "        saldo_pendiente = round(saldo_pendiente, 2)\n",
        "        cuota_fija = round(cuota_fija, 2)\n",
        "\n",
        " # se establecen los detalles de la cuota a la lista de amortización a partir de un diccionario\n",
        "\n",
        "        amortizacion.append({\n",
        "            \"Cuota\": cuota,\n",
        "            \"Cuota fija\": cuota_fija,\n",
        "            \"Interés\": interes,\n",
        "            \"Capital\": capital,\n",
        "            \"Saldo pendiente\": saldo_pendiente\n",
        "        })\n",
        "\n",
        "    return amortizacion   # Devuelve la lista de detalles de la amortización\n",
        "\n",
        "# variables modificables para calcular la amortizacion del prestamo:\n",
        "\n",
        "monto_prestamo = float(input(\"Ingrese el monto del préstamo: \"))\n",
        "tasa_interes_anual = float(input(\"Ingrese la tasa de interés anual (%): \"))\n",
        "num_cuotas = int(input(\"Ingrese el numero de cuotas: \"))\n",
        "\n",
        "amortizacion_resultado = calcular_amortizacion(monto_prestamo, tasa_interes_anual, num_cuotas)  # calcula la amortización utilizando la función escrita\n",
        "\n",
        "for pago in amortizacion_resultado:\n",
        "    print(pago)  # Imprime los detalles de amortización de manera lineal\n"
      ],
      "metadata": {
        "colab": {
          "base_uri": "https://localhost:8080/"
        },
        "id": "azXkjhzO8ZDW",
        "outputId": "6ff3809f-d2a2-40fa-ce92-669e47498536"
      },
      "execution_count": null,
      "outputs": [
        {
          "output_type": "stream",
          "name": "stdout",
          "text": [
            "Ingrese el monto del préstamo: 8000000\n",
            "Ingrese la tasa de interés anual (%): 7\n",
            "Ingrese el numero de cuotas: 5\n",
            "{'Cuota': 1, 'Cuota fija': 1628108.57, 'Interés': 46666.67, 'Capital': 1581441.9, 'Saldo pendiente': 6418558.1}\n",
            "{'Cuota': 2, 'Cuota fija': 1628108.57, 'Interés': 37441.59, 'Capital': 1590666.98, 'Saldo pendiente': 4827891.12}\n",
            "{'Cuota': 3, 'Cuota fija': 1628108.57, 'Interés': 28162.7, 'Capital': 1599945.87, 'Saldo pendiente': 3227945.25}\n",
            "{'Cuota': 4, 'Cuota fija': 1628108.57, 'Interés': 18829.68, 'Capital': 1609278.89, 'Saldo pendiente': 1618666.36}\n",
            "{'Cuota': 5, 'Cuota fija': 1628108.57, 'Interés': 9442.22, 'Capital': 1618666.35, 'Saldo pendiente': 0.01}\n"
          ]
        }
      ]
    },
    {
      "cell_type": "code",
      "execution_count": null,
      "metadata": {
        "colab": {
          "base_uri": "https://localhost:8080/"
        },
        "id": "wY0x7tddBcvP",
        "outputId": "1e537657-4582-4d95-f191-0cb14686d045"
      },
      "outputs": [
        {
          "name": "stdout",
          "output_type": "stream",
          "text": [
            "Introduzca un número entero: 171\n",
            "El número NO es perfecto\n"
          ]
        }
      ],
      "source": [
        "#22. Escribe un programa que determine si un número dado es un número perfecto o no.\n",
        "\n",
        "num = int(input(\"Introduzca un número entero: \"))\n",
        "i = 2 ##Como todo número es divisible por 1, se crea la variable i para iterar desde 2\n",
        "sum = 0 ##Para sumar los divisores, se inicializa la variable sum\n",
        "while i <= num: ##Bucle while para verificar divisores y sumarlos\n",
        "  if num % i == 0:##Si num es divisible por i, agregamos i a la suma\n",
        "    sum += num//i\n",
        "  i += 1 ## Incrementamos el valor de i para pasar al siguiente número\n",
        "\n",
        "if sum == num: ## Comparamos si la suma de los divisores es igual al número original\n",
        "  print (\"El número SÍ es perfecto\")\n",
        "else:\n",
        "  print (\"El número NO es perfecto\")"
      ]
    },
    {
      "cell_type": "code",
      "execution_count": null,
      "metadata": {
        "colab": {
          "base_uri": "https://localhost:8080/"
        },
        "id": "Atvr2VlAK6ti",
        "outputId": "b6c059b8-3696-4708-d631-38201146d4be"
      },
      "outputs": [
        {
          "name": "stdout",
          "output_type": "stream",
          "text": [
            "Ingresa el tipo de prestamo: Educación\n"
          ]
        },
        {
          "output_type": "execute_result",
          "data": {
            "text/plain": [
              "0.09"
            ]
          },
          "metadata": {},
          "execution_count": 52
        }
      ],
      "source": [
        "# 23 Define un diccionario que almacene las tasas de interés para diferentes tipos de préstamos. Pide al usuario que ingrese un tipo de préstamo y muestra la tasa de interés correspondiente\n",
        "\n",
        "# Crear diccionario\n",
        "r={'Tarjeta de crédito': 0.35,\n",
        "   'Libre inversión':0.025,\n",
        "   'Educación':0.09,\n",
        "   'Hipoteca':0.12,\n",
        "   'Vehiculo':0.17}\n",
        "\n",
        "# Funcion para que el usuario escriba el tipo de prestamo\n",
        "r[input(\"Ingresa el tipo de prestamo: \")]\n"
      ]
    },
    {
      "cell_type": "code",
      "source": [
        "#24. Escribe una función calcular_media_geometrica que calcule la media geométrica de una lista de números.\n",
        "\n",
        "def calcular_media_geometrica(lista):\n",
        "\n",
        "    producto = 1  # Iniciamos la variable producto en 1 para almacenar el producto de los numeros en la lista especificada\n",
        "\n",
        "    for numero in lista:       # utilizamos for para recorrer cada numero de la lista, de manera que la iteracion acumule el producto de todos los numeros de la lista\n",
        "        producto *= numero\n",
        "\n",
        "    media_geometrica = producto ** (1 / len(lista))  # Calculamos la media geométrica elevando el producto a la potencia inversa del tamaño de la lista\n",
        "    media_geometrica = round(media_geometrica, 2)  # opcionalmente redondeamos el calculo de la media geometrica a dos decimales\n",
        "\n",
        "    return media_geometrica # devolvemos la media geometrica calculada\n",
        "\n",
        "# suponiendo la siguiente lista de numeros:\n",
        "\n",
        "LN = [4, 8, 5, 12, 24, 33, 9]\n",
        "media = calcular_media_geometrica(LN)\n",
        "print(\"La media geométrica de la lista de numero LN es:\", media) #imprime el valor de la media geometrica calculada\n"
      ],
      "metadata": {
        "colab": {
          "base_uri": "https://localhost:8080/"
        },
        "id": "iDNP8x9HM1uM",
        "outputId": "3625a1d4-5657-4e7e-b244-5aea11dceaf2"
      },
      "execution_count": null,
      "outputs": [
        {
          "output_type": "stream",
          "name": "stdout",
          "text": [
            "La media geométrica de la lista de numero LN es: 10.46\n"
          ]
        }
      ]
    },
    {
      "cell_type": "code",
      "execution_count": null,
      "metadata": {
        "id": "VcrlSX_hBkkr",
        "colab": {
          "base_uri": "https://localhost:8080/"
        },
        "outputId": "ba6a2db8-a6f4-4caf-91ef-851a71e2e45e"
      },
      "outputs": [
        {
          "output_type": "stream",
          "name": "stdout",
          "text": [
            "El segundo número más grande es: 1001\n"
          ]
        }
      ],
      "source": [
        "#25. Crea una lista de números y utiliza una función para encontrar el segundo número más grande.\n",
        "\n",
        "num = [123, 64, 6, 13, 438, 223, 10044, 1001, 667, -45] ##Lista de numeros\n",
        "\n",
        "def segundo_mas_grande(lista): ## Definimos una función llamada segundo_mas_grande que toma una lista como argumento\n",
        "    if len(lista) < 2: ## Función len para medir la longitud de la lista.\n",
        "        return \"La lista debe contener al menos dos números\"\n",
        "\n",
        "    maximo = max(lista) ##Para encontrar el valor máximo de la lista\n",
        "    lista.remove(maximo) ##Se elimina el valor máximo, creando una lista modificada\n",
        "    segundo_maximo = max(lista) ##En la lista modificada, se obtiene el máximo (el 2do máximo de la original)\n",
        "\n",
        "    return segundo_maximo\n",
        "\n",
        "segundo_maximo = segundo_mas_grande(num) ## Llamar a la función para encontrar el segundo número más grande\n",
        "\n",
        "print(\"El segundo número más grande es:\", segundo_maximo)"
      ]
    },
    {
      "cell_type": "code",
      "execution_count": null,
      "metadata": {
        "colab": {
          "base_uri": "https://localhost:8080/"
        },
        "id": "LMT3BN8lUZhJ",
        "outputId": "5efc0aae-0ec3-42b8-f737-308df5863633"
      },
      "outputs": [
        {
          "output_type": "stream",
          "name": "stdout",
          "text": [
            "¿Cuántos números de Lucas quieres imprimir? 8\n",
            "2\n",
            "1\n",
            "3\n",
            "4\n",
            "7\n",
            "11\n",
            "18\n",
            "29\n",
            "47\n"
          ]
        }
      ],
      "source": [
        "# 26. Escribe un programa que calcule e imprima los primeros números de la serie de los números de Lucas a discresión del usuario\n",
        "\n",
        "# Se crea función con def, con un bucle for, así toma un valor n y se cumple con la formula Ln = Ln - 1 + Ln - 2\n",
        "def lucas(n):\n",
        "  a = 2\n",
        "  b = 1\n",
        "  print(a)\n",
        "  for i in range(n):\n",
        "    a, b = b, a + b\n",
        "    print(a)\n",
        "# Se pide al usuario cuantos terminos de la secuencia quiere generar\n",
        "n = int(input(\"¿Cuántos números de Lucas quieres imprimir? \"))\n",
        "lucas(n)\n"
      ]
    },
    {
      "cell_type": "code",
      "source": [
        "#27. Crea una función calcular_cuota_mensual que calcule la cuota mensual de un préstamo hipotecario.\n",
        "\n",
        "def calcular_cuota_mensual(monto_prestamo, tasa_interes_anual, plazo_meses): # definimos la funcion\n",
        "\n",
        "    tasa_interes_mensual = tasa_interes_anual / 12 / 100   # Convertimos la tasa de interés anual a tasa mensual\n",
        "\n",
        "    cuota_mensual = (monto_prestamo * tasa_interes_mensual) / (1 - (1 + tasa_interes_mensual) ** -plazo_meses)   # Calculamos la cuota mensual utilizando la fórmula estándar\n",
        "    cuota_mensual = round(cuota_mensual, 2) # opcionalmente Redondeamos la cuota mensual a dos decimales\n",
        "\n",
        "    return cuota_mensual  # Devolvemos la cuota mensual calculada\n",
        "\n",
        "# variables modificables para calcular la cuota mensual del prestamo hipotecario:\n",
        "\n",
        "monto_prestamo = float(input(\"Ingrese el monto del préstamo hipotecario: \"))\n",
        "tasa_interes_anual = float(input(\"Ingrese la tasa de interés anual (%): \"))\n",
        "plazo_meses = int(input(\"Ingrese el plazo del prestamo en meses: \"))\n",
        "\n",
        "CM_Resultado = calcular_cuota_mensual(monto_prestamo, tasa_interes_anual, plazo_meses) # Calculamos la cuota mensual utilizando la función\n",
        "\n",
        "# Imprimimos el resultado del calculo del prestamo hipotecario\n",
        "\n",
        "print(\"Monto del préstamo:\", monto_prestamo)\n",
        "print(\"Tasa de interés anual:\", tasa_interes_anual)\n",
        "print(\"Plazo del préstamo en meses:\", plazo_meses)\n",
        "print(\"la Cuota mensual del prestamo hipotecario es de: $\", CM_Resultado)"
      ],
      "metadata": {
        "colab": {
          "base_uri": "https://localhost:8080/"
        },
        "id": "J8Zyn0oDPYzK",
        "outputId": "bf4ca3a1-314a-4a35-9474-5a75884f6c3b"
      },
      "execution_count": null,
      "outputs": [
        {
          "output_type": "stream",
          "name": "stdout",
          "text": [
            "Ingrese el monto del préstamo hipotecario: 10000000\n",
            "Ingrese la tasa de interés anual (%): 7\n",
            "Ingrese el plazo del prestamo en meses: 360\n",
            "Monto del préstamo: 10000000.0\n",
            "Tasa de interés anual: 7.0\n",
            "Plazo del préstamo en meses: 360\n",
            "la Cuota mensual del prestamo hipotecario es de: $ 66530.25\n"
          ]
        }
      ]
    },
    {
      "cell_type": "code",
      "execution_count": null,
      "metadata": {
        "colab": {
          "base_uri": "https://localhost:8080/"
        },
        "id": "Zvpxv9C3Bvuw",
        "outputId": "ba597af4-55c2-47ee-8b26-c6afb8a66213"
      },
      "outputs": [
        {
          "output_type": "stream",
          "name": "stdout",
          "text": [
            "Ingrese un número: 59\n",
            "59 NO es un número de Armstrong.\n"
          ]
        }
      ],
      "source": [
        "#28. Escribe una función que determine si un número es un número de Armstrong (un número de n dígitos que es igual a la suma de sus dígitos elevados a la n).\n",
        "\n",
        "num = int(input(\"Ingrese un número: \")) ## Solicitar al usuario que ingrese un número\n",
        "\n",
        "def es_numero_armstrong(numero):\n",
        "    num_str = str(numero)  ##  Convertir el número a una cadena para manipular los dígitos\n",
        "    n = len(num_str)       # Obtener el número de dígitos en el número\n",
        "    suma_digitos = sum(int(digito) ** n for digito in num_str)  # Sumar los dígitos elevados a la n\n",
        "\n",
        "    return suma_digitos == numero  # Comprobar si la suma de los dígitos elevados a la n es igual al número\n",
        "\n",
        "# Llamar a la función para determinar si el número es un número de Armstrong\n",
        "if es_numero_armstrong(num):\n",
        "    print(num, \"SÍ es un número de Armstrong.\")\n",
        "else:\n",
        "    print(num, \"NO es un número de Armstrong.\")"
      ]
    },
    {
      "cell_type": "code",
      "execution_count": null,
      "metadata": {
        "colab": {
          "base_uri": "https://localhost:8080/"
        },
        "id": "fQx7-_vGV6mU",
        "outputId": "949fab9d-8103-436f-e007-ebe7502c74a5"
      },
      "outputs": [
        {
          "name": "stdout",
          "output_type": "stream",
          "text": [
            "Escriba codigo de la moneda a convertir: JPY\n",
            "Escriba el monto a convertir: 3000\n",
            "Escriba codigo de la moneda a la que quiere convertir: USD\n",
            "20.7\n"
          ]
        }
      ],
      "source": [
        "# 29 Define un diccionario que almacene los símbolos de moneda y sus respectivos códigos. Escribe un programa que convierta una cantidad de dinero de una moneda a otra\n",
        "\n",
        "# Crear diccionario\n",
        "m={'$': \"USD\",\n",
        "   '€': \"EUR\",\n",
        "   '¥': \"JPY\"}\n",
        "# Dolar a euro\n",
        "a = 0.92\n",
        "# Euro a dolar\n",
        "b = 1.09\n",
        "# Dolar a yen\n",
        "c = 145.52\n",
        "#  Yen a dolar\n",
        "d = 0.0069\n",
        "# Euro a yen\n",
        "e = 158.75\n",
        "# Yen a euro\n",
        "f = 0.0063\n",
        "\n",
        "m1=input(\"Escriba codigo de la moneda a convertir: \")\n",
        "m2=float(input(\"Escriba el monto a convertir: \"))\n",
        "m3=input(\"Escriba codigo de la moneda a la que quiere convertir: \")\n",
        "\n",
        "if m1 == \"USD\" and m3 == \"EUR\":\n",
        "  print(m2 * a)\n",
        "if m1 == \"EUR\" and m3 == \"USD\":\n",
        "  print(m2 * b)\n",
        "if m1 == \"USD\" and m3 == \"JPY\":\n",
        "  print(m2 * c)\n",
        "if m1 == \"JPY\" and m3 == \"USD\":\n",
        "  print(m2 * d)\n",
        "if m1 == \"EUR\" and m3 == \"JPY\":\n",
        "  print(m2 * e)\n",
        "if m1 == \"JPY\" and m3 == \"EUR\":\n",
        "  print(m2 * f)\n"
      ]
    },
    {
      "cell_type": "code",
      "source": [
        "# 30. Crea una función que calcule la desviación estándar de una lista de números.\n",
        "\n",
        "import math #se importa este modulo matematico para utilizar el calculo de la raiz cuadrada\n",
        "\n",
        "def calcular_dv(lista_numeros):\n",
        "\n",
        "    media = sum(lista_numeros) / len(lista_numeros)  # Calculamos la media de la lista de números\n",
        "\n",
        "    suma_cuadrados_diferencias = sum((numero - media) ** 2 for numero in lista_numeros) # Calculamos la suma de los cuadrados de las diferencias entre cada número y la media (comprension de lista que itera a travez de cada numero de la lista especificada)\n",
        "\n",
        "    varianza = suma_cuadrados_diferencias / len(lista_numeros) # Calculamos la varianza dividiendo la suma de los cuadrados entre el número de elementos\n",
        "\n",
        "    desviacion_estandar = math.sqrt(varianza) # y Calculamos la desviación estándar como la raíz cuadrada de la varianza\n",
        "    desviacion_estandar = round(desviacion_estandar, 2)  # opcionalmente Redondeamos el resultado de la desviacion a dos decimales\n",
        "\n",
        "    return desviacion_estandar   # Devolvemos la desviación estándar calculada\n",
        "\n",
        "# suponiendo la siguiente lista de numeros:\n",
        "N = [24, 15, 26, 74, 25, 45, 6, 18, 30]\n",
        "\n",
        "resultado_dv = calcular_dv(N) # Calculamos la desviación estándar de la lista N utilizando la función\n",
        "print(\"La Desviación estándar de la lista de numeros N es:\", resultado_dv) # Imprimimos el resultado"
      ],
      "metadata": {
        "colab": {
          "base_uri": "https://localhost:8080/"
        },
        "id": "xQj32AptRVa2",
        "outputId": "09166807-fc52-4f6d-e20f-5b4732697d1a"
      },
      "execution_count": null,
      "outputs": [
        {
          "output_type": "stream",
          "name": "stdout",
          "text": [
            "La Desviación estándar de la lista de numeros N es: 18.79\n"
          ]
        }
      ]
    }
  ],
  "metadata": {
    "colab": {
      "provenance": [],
      "include_colab_link": true
    },
    "kernelspec": {
      "display_name": "Python 3",
      "name": "python3"
    },
    "language_info": {
      "name": "python"
    }
  },
  "nbformat": 4,
  "nbformat_minor": 0
}