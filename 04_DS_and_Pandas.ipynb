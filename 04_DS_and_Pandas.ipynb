{
  "nbformat": 4,
  "nbformat_minor": 0,
  "metadata": {
    "colab": {
      "provenance": [],
      "authorship_tag": "ABX9TyOydWwv+VQnpIi5VqFHTD4v",
      "include_colab_link": true
    },
    "kernelspec": {
      "name": "python3",
      "display_name": "Python 3"
    },
    "language_info": {
      "name": "python"
    }
  },
  "cells": [
    {
      "cell_type": "markdown",
      "metadata": {
        "id": "view-in-github",
        "colab_type": "text"
      },
      "source": [
        "<a href=\"https://colab.research.google.com/github/EstebanJM/V.Data/blob/main/04_DS_and_Pandas.ipynb\" target=\"_parent\"><img src=\"https://colab.research.google.com/assets/colab-badge.svg\" alt=\"Open In Colab\"/></a>"
      ]
    },
    {
      "cell_type": "markdown",
      "source": [
        "# **1. DS and Pandas**\n",
        "\n",
        "it is the Excel of Phyton."
      ],
      "metadata": {
        "id": "1fKYJgGUuCyK"
      }
    },
    {
      "cell_type": "code",
      "execution_count": 1,
      "metadata": {
        "id": "Ns-6STaNtgRv"
      },
      "outputs": [],
      "source": [
        "# Libraries \n",
        "\n",
        "import numpy as np\n",
        "import pandas as pd"
      ]
    },
    {
      "cell_type": "markdown",
      "source": [
        "#**2. Series**\n",
        "\n",
        "A *series* is a one dimensional object"
      ],
      "metadata": {
        "id": "rqWTlyVXu88t"
      }
    },
    {
      "cell_type": "markdown",
      "source": [
        "## 2.1 Series creation"
      ],
      "metadata": {
        "id": "Z8ZCC2h2vStE"
      }
    },
    {
      "cell_type": "code",
      "source": [
        "# Empty series\n",
        "\n",
        "emp = pd.Series\n",
        "print(emp)"
      ],
      "metadata": {
        "colab": {
          "base_uri": "https://localhost:8080/"
        },
        "id": "dIgj-Lnquo7c",
        "outputId": "2f33077f-e85a-40aa-8d81-9dcaf39726e2"
      },
      "execution_count": 2,
      "outputs": [
        {
          "output_type": "stream",
          "name": "stdout",
          "text": [
            "<class 'pandas.core.series.Series'>\n"
          ]
        }
      ]
    },
    {
      "cell_type": "code",
      "source": [
        "# Create a series by typing values\n",
        "\n",
        "print(\"Location\",\"Result\")\n",
        "s_int = pd.Series([1,2,3,4,5,6,7,8,9]) \n",
        "print(s_int)\n",
        "\n",
        "s_name = pd.Series([\"Esteban\", \"Luisa\", \"Tatiana\"])\n",
        "print(s_name)"
      ],
      "metadata": {
        "colab": {
          "base_uri": "https://localhost:8080/"
        },
        "id": "yAiF7jaJvwNt",
        "outputId": "9d669928-eabd-40c7-e533-54cd34f38ef4"
      },
      "execution_count": 14,
      "outputs": [
        {
          "output_type": "stream",
          "name": "stdout",
          "text": [
            "Location Result\n",
            "0    1\n",
            "1    2\n",
            "2    3\n",
            "3    4\n",
            "4    5\n",
            "5    6\n",
            "6    7\n",
            "7    8\n",
            "8    9\n",
            "dtype: int64\n",
            "0    Esteban\n",
            "1      Luisa\n",
            "2    Tatiana\n",
            "dtype: object\n"
          ]
        }
      ]
    },
    {
      "cell_type": "code",
      "source": [
        "# Cr\n",
        "s_rand = pd.Series (np.random.rand(10))\n",
        "print(s_rand)"
      ],
      "metadata": {
        "colab": {
          "base_uri": "https://localhost:8080/"
        },
        "id": "W74b62VowOZt",
        "outputId": "288b0d09-e16a-4bf0-81b0-64be0ca8d836"
      },
      "execution_count": 15,
      "outputs": [
        {
          "output_type": "stream",
          "name": "stdout",
          "text": [
            "0    0.670013\n",
            "1    0.610049\n",
            "2    0.524273\n",
            "3    0.278968\n",
            "4    0.689108\n",
            "5    0.448189\n",
            "6    0.638758\n",
            "7    0.548528\n",
            "8    0.655970\n",
            "9    0.523332\n",
            "dtype: float64\n"
          ]
        }
      ]
    },
    {
      "cell_type": "markdown",
      "source": [
        "## 2.2 Indexing"
      ],
      "metadata": {
        "id": "DLKOQFIbyx3V"
      }
    },
    {
      "cell_type": "code",
      "source": [
        "# Check the index of a series\n",
        "\n",
        "s_rand.index"
      ],
      "metadata": {
        "colab": {
          "base_uri": "https://localhost:8080/"
        },
        "id": "V43KzFVqyold",
        "outputId": "5088bb13-ef94-46ff-b7f5-7c21f83b2e8e"
      },
      "execution_count": 16,
      "outputs": [
        {
          "output_type": "execute_result",
          "data": {
            "text/plain": [
              "RangeIndex(start=0, stop=10, step=1)"
            ]
          },
          "metadata": {},
          "execution_count": 16
        }
      ]
    },
    {
      "cell_type": "code",
      "source": [
        "# Create your own index\n",
        "new_index = [\"A\", \"B\", \"C\"]\n",
        "s_name= s_name.set_axis(new_index)\n",
        "print(s_name)\n"
      ],
      "metadata": {
        "colab": {
          "base_uri": "https://localhost:8080/"
        },
        "id": "tla473-hzGFu",
        "outputId": "99f2a951-a2c4-4053-fb48-62cc5c1e05cb"
      },
      "execution_count": 22,
      "outputs": [
        {
          "output_type": "stream",
          "name": "stdout",
          "text": [
            "A    Esteban\n",
            "B      Luisa\n",
            "C    Tatiana\n",
            "dtype: object\n"
          ]
        }
      ]
    },
    {
      "cell_type": "markdown",
      "source": [
        "## 2.3 Select and Slice"
      ],
      "metadata": {
        "id": "G92HIpAH25LE"
      }
    },
    {
      "cell_type": "code",
      "source": [
        "#Simple selection\n",
        "s_name[\"A\"]"
      ],
      "metadata": {
        "colab": {
          "base_uri": "https://localhost:8080/",
          "height": 35
        },
        "id": "Grl-gEqGzp9r",
        "outputId": "d4eaa7f1-43ca-4534-f9db-7e7b93d0528f"
      },
      "execution_count": 23,
      "outputs": [
        {
          "output_type": "execute_result",
          "data": {
            "text/plain": [
              "'Esteban'"
            ],
            "application/vnd.google.colaboratory.intrinsic+json": {
              "type": "string"
            }
          },
          "metadata": {},
          "execution_count": 23
        }
      ]
    },
    {
      "cell_type": "code",
      "source": [
        "# select diferent elements \n",
        "s_rand[[4,6]]"
      ],
      "metadata": {
        "colab": {
          "base_uri": "https://localhost:8080/"
        },
        "id": "y0Z6gdFE3HSs",
        "outputId": "d5a90ea5-3a97-46f7-fe63-6223f51a7f41"
      },
      "execution_count": 24,
      "outputs": [
        {
          "output_type": "execute_result",
          "data": {
            "text/plain": [
              "4    0.689108\n",
              "6    0.638758\n",
              "dtype: float64"
            ]
          },
          "metadata": {},
          "execution_count": 24
        }
      ]
    },
    {
      "cell_type": "code",
      "source": [
        "# Anothe way\n",
        "\n",
        "s_rand[:3]"
      ],
      "metadata": {
        "colab": {
          "base_uri": "https://localhost:8080/"
        },
        "id": "2RL6iYo-3wPK",
        "outputId": "1f9136c1-e97e-4558-cf46-520c837e1548"
      },
      "execution_count": 28,
      "outputs": [
        {
          "output_type": "execute_result",
          "data": {
            "text/plain": [
              "0    0.670013\n",
              "1    0.610049\n",
              "2    0.524273\n",
              "dtype: float64"
            ]
          },
          "metadata": {},
          "execution_count": 28
        }
      ]
    },
    {
      "cell_type": "code",
      "source": [],
      "metadata": {
        "id": "C2uL4OEx34Zc"
      },
      "execution_count": null,
      "outputs": []
    }
  ]
}