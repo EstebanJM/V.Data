{
  "nbformat": 4,
  "nbformat_minor": 0,
  "metadata": {
    "colab": {
      "provenance": [],
      "toc_visible": true,
      "authorship_tag": "ABX9TyPM4fRtwdGe9aBPbbJzt+cX",
      "include_colab_link": true
    },
    "kernelspec": {
      "name": "python3",
      "display_name": "Python 3"
    },
    "language_info": {
      "name": "python"
    }
  },
  "cells": [
    {
      "cell_type": "markdown",
      "metadata": {
        "id": "view-in-github",
        "colab_type": "text"
      },
      "source": [
        "<a href=\"https://colab.research.google.com/github/EstebanJM/V.Data/blob/main/Basics_of_MD_Class_1.ipynb\" target=\"_parent\"><img src=\"https://colab.research.google.com/assets/colab-badge.svg\" alt=\"Open In Colab\"/></a>"
      ]
    },
    {
      "cell_type": "markdown",
      "source": [
        "#Title\n",
        "## Subtitle\n",
        "### Subsubtitle"
      ],
      "metadata": {
        "id": "OcXBqswTcdDb"
      }
    },
    {
      "cell_type": "markdown",
      "source": [
        "##Section 1"
      ],
      "metadata": {
        "id": "kjWc4lV2eWyE"
      }
    },
    {
      "cell_type": "code",
      "execution_count": null,
      "metadata": {
        "id": "Q7s_v7Qll0Rs"
      },
      "outputs": [],
      "source": []
    },
    {
      "cell_type": "markdown",
      "source": [
        "##subsection 1"
      ],
      "metadata": {
        "id": "VuUwcDRbeuVa"
      }
    },
    {
      "cell_type": "code",
      "source": [],
      "metadata": {
        "id": "-Wsi4XEte0-O"
      },
      "execution_count": null,
      "outputs": []
    },
    {
      "cell_type": "markdown",
      "source": [
        "# Seccion nueva"
      ],
      "metadata": {
        "id": "3brLGvb6fG0X"
      }
    },
    {
      "cell_type": "markdown",
      "source": [
        "##Bold\n",
        "\n",
        "Using   `**`:\n",
        "\n",
        "`**Esteban**`=**Esteban**"
      ],
      "metadata": {
        "id": "Hjaj-AskfNbf"
      }
    },
    {
      "cell_type": "markdown",
      "source": [
        "##Italic\n",
        "\n",
        "Use `*`\n",
        "\n",
        "`*Jiménez*` = *Jiménez*"
      ],
      "metadata": {
        "id": "jaRZyRA-gAGW"
      }
    },
    {
      "cell_type": "markdown",
      "source": [
        "#Excercise\n",
        "\n",
        "**Michael Esteban** *Jiménez* ***Medina***"
      ],
      "metadata": {
        "id": "z_6NDcFUhLih"
      }
    }
  ]
}