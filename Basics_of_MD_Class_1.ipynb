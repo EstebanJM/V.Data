{
  "nbformat": 4,
  "nbformat_minor": 0,
  "metadata": {
    "colab": {
      "provenance": [],
      "toc_visible": true,
      "authorship_tag": "ABX9TyMqzptlj2a0PsD6MwTnxhwh",
      "include_colab_link": true
    },
    "kernelspec": {
      "name": "python3",
      "display_name": "Python 3"
    },
    "language_info": {
      "name": "python"
    }
  },
  "cells": [
    {
      "cell_type": "markdown",
      "metadata": {
        "id": "view-in-github",
        "colab_type": "text"
      },
      "source": [
        "<a href=\"https://colab.research.google.com/github/EstebanJM/V.Data/blob/main/Basics_of_MD_Class_1.ipynb\" target=\"_parent\"><img src=\"https://colab.research.google.com/assets/colab-badge.svg\" alt=\"Open In Colab\"/></a>"
      ]
    },
    {
      "cell_type": "markdown",
      "source": [
        "#Title\n",
        "## Subtitle\n",
        "### Subsubtitle"
      ],
      "metadata": {
        "id": "OcXBqswTcdDb"
      }
    },
    {
      "cell_type": "markdown",
      "source": [
        "##Section 1"
      ],
      "metadata": {
        "id": "kjWc4lV2eWyE"
      }
    },
    {
      "cell_type": "markdown",
      "source": [
        "##subsection 1"
      ],
      "metadata": {
        "id": "VuUwcDRbeuVa"
      }
    },
    {
      "cell_type": "markdown",
      "source": [
        "# New section\n",
        "\n",
        "\n"
      ],
      "metadata": {
        "id": "3brLGvb6fG0X"
      }
    },
    {
      "cell_type": "markdown",
      "source": [
        "##Bold\n",
        "\n",
        "Using   `**`:\n",
        "\n",
        "`**Esteban**`=**Esteban**"
      ],
      "metadata": {
        "id": "Hjaj-AskfNbf"
      }
    },
    {
      "cell_type": "markdown",
      "source": [
        "##Italic\n",
        "\n",
        "Use `*`\n",
        "\n",
        "`*Jiménez*` = *Jiménez*"
      ],
      "metadata": {
        "id": "jaRZyRA-gAGW"
      }
    },
    {
      "cell_type": "markdown",
      "source": [
        "#Excercise\n",
        "\n",
        "**Michael Esteban** *Jiménez* ***Medina***"
      ],
      "metadata": {
        "id": "z_6NDcFUhLih"
      }
    },
    {
      "cell_type": "markdown",
      "source": [
        "# List"
      ],
      "metadata": {
        "id": "snvc6iLTjMxJ"
      }
    },
    {
      "cell_type": "markdown",
      "source": [
        "## Unordered List\n",
        "\n",
        "**List of sports**:\n",
        "\n",
        "* Football\n",
        "* Basketball\n",
        "* Volleyball\n"
      ],
      "metadata": {
        "id": "leC5OJizjSbJ"
      }
    },
    {
      "cell_type": "markdown",
      "source": [
        "## Ordered List\n",
        "\n",
        "**The best singers**:\n",
        "\n",
        "1. Justin Bieber\n",
        "2. Maluma\n",
        "3. Adele"
      ],
      "metadata": {
        "id": "AxokQMHekC93"
      }
    },
    {
      "cell_type": "markdown",
      "source": [
        "## Nested List\n",
        "\n",
        "**To-Do List:**\n",
        "\n",
        "1. Training\n",
        "\n",
        "  1.1. Wake-up early\n",
        "\n",
        "  1.2. Run 10 kms\n",
        "\n",
        "2. Rest\n",
        "\n",
        "  2.1 Sleep\n",
        "  \n"
      ],
      "metadata": {
        "id": "xOg_4ubqkWG0"
      }
    },
    {
      "cell_type": "markdown",
      "source": [
        "## Exercise\n",
        "\n",
        "Create a nested list for you tomorrow\n",
        "\n",
        "**To-do list for tomorrow**\n",
        "\n",
        "1. *Go to university*\n",
        "\n",
        "  1.1 Wake-up early\n",
        "\n",
        "  1.2 Take a shower\n",
        "\n",
        "  1.3 Get dressed\n",
        "\n",
        "  1.4 Eat breakfast\n",
        "\n",
        "  1.5 Take a bus\n",
        "\n",
        "  1.6 Walk to the university\n",
        "\n",
        "2. *Go to the class \"Econometría financiera\"*\n",
        "\n",
        "3. *Go back to the home*\n",
        "\n",
        "  3.1 Walk to the stop bus \n",
        "\n",
        "  3.2 Take a bus\n",
        "\n",
        "  3.3 Walk to the home\n",
        "\n",
        "4. *Take a Lunch*\n",
        "\n",
        "\n"
      ],
      "metadata": {
        "id": "-tpJAF1NlfZb"
      }
    }
  ]
}