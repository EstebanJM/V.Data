{
  "nbformat": 4,
  "nbformat_minor": 0,
  "metadata": {
    "colab": {
      "provenance": [],
      "authorship_tag": "ABX9TyP3111BxBjWX/C5afwcwYM/",
      "include_colab_link": true
    },
    "kernelspec": {
      "name": "python3",
      "display_name": "Python 3"
    },
    "language_info": {
      "name": "python"
    }
  },
  "cells": [
    {
      "cell_type": "markdown",
      "metadata": {
        "id": "view-in-github",
        "colab_type": "text"
      },
      "source": [
        "<a href=\"https://colab.research.google.com/github/EstebanJM/V.Data/blob/main/01_Phyton_Basics.ipynb\" target=\"_parent\"><img src=\"https://colab.research.google.com/assets/colab-badge.svg\" alt=\"Open In Colab\"/></a>"
      ]
    },
    {
      "cell_type": "markdown",
      "source": [
        "## Introduction \n",
        "\n",
        "In this file, we are going to *code* \n",
        "\n",
        "We are going understand Phyton, how its work, and some tricks. "
      ],
      "metadata": {
        "id": "snzmL5wbj-yf"
      }
    },
    {
      "cell_type": "markdown",
      "source": [
        "# 1. What is Phyton?\n",
        "It was created in 1991 and it is a **general-purposue programming language**  \n",
        "\n",
        "This mean that Phyton is used for:\n",
        "* Data analysis\n",
        "* Automatic task\n",
        "* Machine learning\n",
        "* Data visualization\n",
        "* Optimization\n",
        "* Web development\n",
        "* User Interfaces creation\n",
        "* Create another software - Video game\n",
        "\n",
        "The world run on Phyton, C++, Java and HTLM / CSS, AND R?\n"
      ],
      "metadata": {
        "id": "MSpkeQ0NkTEm"
      }
    },
    {
      "cell_type": "markdown",
      "source": [
        "# 2. Why Phyton?\n",
        "\n",
        "The main reasons:\n",
        "\n",
        "* It is simple.\n",
        "* Focus.\n",
        "* Easy to learn\n",
        "* Open-source: It's free.\n",
        "* Cross-platorm.\n",
        "* Extensive libraries."
      ],
      "metadata": {
        "id": "j9QshIlOlmq1"
      }
    },
    {
      "cell_type": "markdown",
      "source": [
        "# 3. Getting Stared"
      ],
      "metadata": {
        "id": "7jM4E7qdms2C"
      }
    },
    {
      "cell_type": "markdown",
      "source": [
        "## 3.1. Phyton as a calculator"
      ],
      "metadata": {
        "id": "LBl6IIJImzpn"
      }
    },
    {
      "cell_type": "code",
      "execution_count": 3,
      "metadata": {
        "colab": {
          "base_uri": "https://localhost:8080/"
        },
        "id": "ZevPV9ijjl1L",
        "outputId": "7271be90-5612-4e76-cf60-d7697b343006"
      },
      "outputs": [
        {
          "output_type": "execute_result",
          "data": {
            "text/plain": [
              "4"
            ]
          },
          "metadata": {},
          "execution_count": 3
        }
      ],
      "source": [
        "# Addition\n",
        "2 + 2"
      ]
    },
    {
      "cell_type": "code",
      "source": [
        "# Substraction\n",
        "367 - 289"
      ],
      "metadata": {
        "colab": {
          "base_uri": "https://localhost:8080/"
        },
        "id": "CaHFrxLZnXWQ",
        "outputId": "15e47d75-5f7e-4834-a7b2-c5519033241f"
      },
      "execution_count": 4,
      "outputs": [
        {
          "output_type": "execute_result",
          "data": {
            "text/plain": [
              "78"
            ]
          },
          "metadata": {},
          "execution_count": 4
        }
      ]
    },
    {
      "cell_type": "code",
      "source": [
        "# Multiplication\n",
        "567 * 2324"
      ],
      "metadata": {
        "colab": {
          "base_uri": "https://localhost:8080/"
        },
        "id": "DdHeHGRroOUp",
        "outputId": "49ed5a55-c7ca-4ad5-af7d-ab9d72b5cb59"
      },
      "execution_count": 5,
      "outputs": [
        {
          "output_type": "execute_result",
          "data": {
            "text/plain": [
              "1317708"
            ]
          },
          "metadata": {},
          "execution_count": 5
        }
      ]
    },
    {
      "cell_type": "code",
      "source": [
        "# Division\n",
        "10 / 3"
      ],
      "metadata": {
        "colab": {
          "base_uri": "https://localhost:8080/"
        },
        "id": "OqneJ062oTPP",
        "outputId": "981c6644-1cb4-4dd2-ba5a-dcf31b99a04e"
      },
      "execution_count": 10,
      "outputs": [
        {
          "output_type": "execute_result",
          "data": {
            "text/plain": [
              "3.3333333333333335"
            ]
          },
          "metadata": {},
          "execution_count": 10
        }
      ]
    },
    {
      "cell_type": "code",
      "source": [
        "# Integer division \n",
        "10 // 3"
      ],
      "metadata": {
        "colab": {
          "base_uri": "https://localhost:8080/"
        },
        "id": "d_c43v-JobrQ",
        "outputId": "9599f9ba-50ca-45de-b462-65753ba492f3"
      },
      "execution_count": 9,
      "outputs": [
        {
          "output_type": "execute_result",
          "data": {
            "text/plain": [
              "3"
            ]
          },
          "metadata": {},
          "execution_count": 9
        }
      ]
    },
    {
      "cell_type": "code",
      "source": [],
      "metadata": {
        "id": "xLavNhFbop9D"
      },
      "execution_count": null,
      "outputs": []
    }
  ]
}