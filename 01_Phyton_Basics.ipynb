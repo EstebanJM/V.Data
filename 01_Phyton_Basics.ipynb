{
  "nbformat": 4,
  "nbformat_minor": 0,
  "metadata": {
    "colab": {
      "provenance": [],
      "authorship_tag": "ABX9TyNNH/Gk0kbeZAAQ82QxvO8L",
      "include_colab_link": true
    },
    "kernelspec": {
      "name": "python3",
      "display_name": "Python 3"
    },
    "language_info": {
      "name": "python"
    }
  },
  "cells": [
    {
      "cell_type": "markdown",
      "metadata": {
        "id": "view-in-github",
        "colab_type": "text"
      },
      "source": [
        "<a href=\"https://colab.research.google.com/github/EstebanJM/V.Data/blob/main/01_Phyton_Basics.ipynb\" target=\"_parent\"><img src=\"https://colab.research.google.com/assets/colab-badge.svg\" alt=\"Open In Colab\"/></a>"
      ]
    },
    {
      "cell_type": "markdown",
      "source": [
        "## Introduction \n",
        "\n",
        "In this file, we are going to *code* \n",
        "\n",
        "We are going understand Phyton, how its work, and some tricks. "
      ],
      "metadata": {
        "id": "snzmL5wbj-yf"
      }
    },
    {
      "cell_type": "markdown",
      "source": [
        "# 1. What is Phyton?\n",
        "It was created in 1991 and it is a **general-purposue programming language**  \n",
        "\n",
        "This mean that Phyton is used for:\n",
        "* Data analysis\n",
        "* Automatic task\n",
        "* Machine learning\n",
        "* Data visualization\n",
        "* Optimization\n",
        "* Web development\n",
        "* User Interfaces creation\n",
        "* Create another software - Video game\n",
        "\n",
        "The world run on Phyton, C++, Java and HTLM / CSS, AND R?\n"
      ],
      "metadata": {
        "id": "MSpkeQ0NkTEm"
      }
    },
    {
      "cell_type": "markdown",
      "source": [
        "# 2. Why Phyton?\n",
        "\n",
        "The main reasons:\n",
        "\n",
        "* It is simple.\n",
        "* Focus.\n",
        "* Easy to learn\n",
        "* Open-source: It's free.\n",
        "* Cross-platorm.\n",
        "* Extensive libraries."
      ],
      "metadata": {
        "id": "j9QshIlOlmq1"
      }
    },
    {
      "cell_type": "markdown",
      "source": [
        "# 3. Getting Stared"
      ],
      "metadata": {
        "id": "7jM4E7qdms2C"
      }
    },
    {
      "cell_type": "markdown",
      "source": [
        "## 3.1. Phyton as a calculator"
      ],
      "metadata": {
        "id": "LBl6IIJImzpn"
      }
    },
    {
      "cell_type": "code",
      "execution_count": null,
      "metadata": {
        "colab": {
          "base_uri": "https://localhost:8080/"
        },
        "id": "ZevPV9ijjl1L",
        "outputId": "7271be90-5612-4e76-cf60-d7697b343006"
      },
      "outputs": [
        {
          "output_type": "execute_result",
          "data": {
            "text/plain": [
              "4"
            ]
          },
          "metadata": {},
          "execution_count": 3
        }
      ],
      "source": [
        "# Addition\n",
        "2 + 2"
      ]
    },
    {
      "cell_type": "code",
      "source": [
        "# Substraction\n",
        "367 - 289"
      ],
      "metadata": {
        "colab": {
          "base_uri": "https://localhost:8080/"
        },
        "id": "CaHFrxLZnXWQ",
        "outputId": "15e47d75-5f7e-4834-a7b2-c5519033241f"
      },
      "execution_count": null,
      "outputs": [
        {
          "output_type": "execute_result",
          "data": {
            "text/plain": [
              "78"
            ]
          },
          "metadata": {},
          "execution_count": 4
        }
      ]
    },
    {
      "cell_type": "code",
      "source": [
        "# Multiplication\n",
        "567 * 2324"
      ],
      "metadata": {
        "colab": {
          "base_uri": "https://localhost:8080/"
        },
        "id": "DdHeHGRroOUp",
        "outputId": "49ed5a55-c7ca-4ad5-af7d-ab9d72b5cb59"
      },
      "execution_count": null,
      "outputs": [
        {
          "output_type": "execute_result",
          "data": {
            "text/plain": [
              "1317708"
            ]
          },
          "metadata": {},
          "execution_count": 5
        }
      ]
    },
    {
      "cell_type": "code",
      "source": [
        "# Division\n",
        "10 / 3"
      ],
      "metadata": {
        "colab": {
          "base_uri": "https://localhost:8080/"
        },
        "id": "OqneJ062oTPP",
        "outputId": "981c6644-1cb4-4dd2-ba5a-dcf31b99a04e"
      },
      "execution_count": null,
      "outputs": [
        {
          "output_type": "execute_result",
          "data": {
            "text/plain": [
              "3.3333333333333335"
            ]
          },
          "metadata": {},
          "execution_count": 10
        }
      ]
    },
    {
      "cell_type": "code",
      "source": [
        "# Integer division \n",
        "10 // 3"
      ],
      "metadata": {
        "colab": {
          "base_uri": "https://localhost:8080/"
        },
        "id": "d_c43v-JobrQ",
        "outputId": "9599f9ba-50ca-45de-b462-65753ba492f3"
      },
      "execution_count": null,
      "outputs": [
        {
          "output_type": "execute_result",
          "data": {
            "text/plain": [
              "3"
            ]
          },
          "metadata": {},
          "execution_count": 9
        }
      ]
    },
    {
      "cell_type": "code",
      "source": [
        "# Exponential\n",
        "2**3"
      ],
      "metadata": {
        "id": "xLavNhFbop9D",
        "colab": {
          "base_uri": "https://localhost:8080/"
        },
        "outputId": "9526e62c-9c8f-4153-8ace-76afefdc56d0"
      },
      "execution_count": 2,
      "outputs": [
        {
          "output_type": "execute_result",
          "data": {
            "text/plain": [
              "8"
            ]
          },
          "metadata": {},
          "execution_count": 2
        }
      ]
    },
    {
      "cell_type": "markdown",
      "source": [
        "## 3.2 Composite operations and parenthesis"
      ],
      "metadata": {
        "id": "RTsnHoE2jPAe"
      }
    },
    {
      "cell_type": "code",
      "source": [
        "#Example\n",
        "\n",
        "2 + 3*4"
      ],
      "metadata": {
        "colab": {
          "base_uri": "https://localhost:8080/"
        },
        "id": "uEne4NkZiiEF",
        "outputId": "9534699d-c747-484a-9a54-7a4de205cdc3"
      },
      "execution_count": 3,
      "outputs": [
        {
          "output_type": "execute_result",
          "data": {
            "text/plain": [
              "14"
            ]
          },
          "metadata": {},
          "execution_count": 3
        }
      ]
    },
    {
      "cell_type": "markdown",
      "source": [
        "You can change the operator precedence using **pharenteshis**"
      ],
      "metadata": {
        "id": "-f4587MHjDRw"
      }
    },
    {
      "cell_type": "code",
      "source": [
        "# Example\n",
        "\n",
        "(2+3)*4"
      ],
      "metadata": {
        "colab": {
          "base_uri": "https://localhost:8080/"
        },
        "id": "7daIunk7jFD7",
        "outputId": "7c0768af-cd3a-40db-ff5a-b65471dc2393"
      },
      "execution_count": 5,
      "outputs": [
        {
          "output_type": "execute_result",
          "data": {
            "text/plain": [
              "20"
            ]
          },
          "metadata": {},
          "execution_count": 5
        }
      ]
    },
    {
      "cell_type": "markdown",
      "source": [
        "## 3.3 integers and real numbers "
      ],
      "metadata": {
        "id": "VTXTtYSxjTxw"
      }
    },
    {
      "cell_type": "code",
      "source": [
        "#Interger (with no decimal positions)\n",
        "type(26) "
      ],
      "metadata": {
        "colab": {
          "base_uri": "https://localhost:8080/"
        },
        "id": "rHGzZxd8jHh3",
        "outputId": "8668a4d4-fb10-43b2-e1b4-dd0261cc3794"
      },
      "execution_count": 7,
      "outputs": [
        {
          "output_type": "execute_result",
          "data": {
            "text/plain": [
              "int"
            ]
          },
          "metadata": {},
          "execution_count": 7
        }
      ]
    },
    {
      "cell_type": "code",
      "source": [
        "#Real number (with decimal positions)\n",
        "\n",
        "type(2.5)"
      ],
      "metadata": {
        "colab": {
          "base_uri": "https://localhost:8080/"
        },
        "id": "7l0jYT8ykcnh",
        "outputId": "238d1556-1587-4d61-8dc5-9ea094eb8396"
      },
      "execution_count": 8,
      "outputs": [
        {
          "output_type": "execute_result",
          "data": {
            "text/plain": [
              "float"
            ]
          },
          "metadata": {},
          "execution_count": 8
        }
      ]
    },
    {
      "cell_type": "code",
      "source": [
        "# Examples \n",
        "## Find out if the next expressions are int our floats\n",
        "2+3.0\n",
        "2.5*7\n",
        "4.0/2"
      ],
      "metadata": {
        "id": "obaJzcvOlCl-"
      },
      "execution_count": null,
      "outputs": []
    },
    {
      "cell_type": "code",
      "source": [
        "type(2+3.0)"
      ],
      "metadata": {
        "colab": {
          "base_uri": "https://localhost:8080/"
        },
        "id": "pLSmxqOFkrYM",
        "outputId": "cd844797-7b83-4df1-9873-1415904b2228"
      },
      "execution_count": 11,
      "outputs": [
        {
          "output_type": "execute_result",
          "data": {
            "text/plain": [
              "float"
            ]
          },
          "metadata": {},
          "execution_count": 11
        }
      ]
    },
    {
      "cell_type": "code",
      "source": [
        "type(2.5*7)"
      ],
      "metadata": {
        "colab": {
          "base_uri": "https://localhost:8080/"
        },
        "id": "D6-7qUALl_fd",
        "outputId": "55c30014-f8ec-4ca5-8bf8-1c867e422850"
      },
      "execution_count": 12,
      "outputs": [
        {
          "output_type": "execute_result",
          "data": {
            "text/plain": [
              "float"
            ]
          },
          "metadata": {},
          "execution_count": 12
        }
      ]
    },
    {
      "cell_type": "code",
      "source": [
        "type(4.0/2)"
      ],
      "metadata": {
        "colab": {
          "base_uri": "https://localhost:8080/"
        },
        "id": "0OwxiGqGmCOB",
        "outputId": "fb066aa4-f0c6-45c9-bc81-5ba66b7fac80"
      },
      "execution_count": 13,
      "outputs": [
        {
          "output_type": "execute_result",
          "data": {
            "text/plain": [
              "float"
            ]
          },
          "metadata": {},
          "execution_count": 13
        }
      ]
    },
    {
      "cell_type": "markdown",
      "source": [
        "### Scientific notation"
      ],
      "metadata": {
        "id": "KbVR6p3OmzIh"
      }
    },
    {
      "cell_type": "code",
      "source": [
        "# Example\n",
        "5e1"
      ],
      "metadata": {
        "colab": {
          "base_uri": "https://localhost:8080/"
        },
        "id": "hEarpSonoguP",
        "outputId": "a1fca0dc-4880-4533-ee97-f5c08052a2a8"
      },
      "execution_count": 14,
      "outputs": [
        {
          "output_type": "execute_result",
          "data": {
            "text/plain": [
              "50.0"
            ]
          },
          "metadata": {},
          "execution_count": 14
        }
      ]
    },
    {
      "cell_type": "code",
      "source": [
        "# Example\n",
        "6e-2"
      ],
      "metadata": {
        "colab": {
          "base_uri": "https://localhost:8080/"
        },
        "id": "8RDsUBnMos9W",
        "outputId": "016cbe68-5294-4617-fdcc-82d0e7a7a51e"
      },
      "execution_count": 17,
      "outputs": [
        {
          "output_type": "execute_result",
          "data": {
            "text/plain": [
              "0.06"
            ]
          },
          "metadata": {},
          "execution_count": 17
        }
      ]
    },
    {
      "cell_type": "markdown",
      "source": [
        "# Practice\n",
        "# Write 1 millon in scientific notation\n",
        "# what is the result of 3e0.2"
      ],
      "metadata": {
        "id": "ZBtChB6somNW"
      }
    },
    {
      "cell_type": "code",
      "source": [
        "1e6"
      ],
      "metadata": {
        "colab": {
          "base_uri": "https://localhost:8080/"
        },
        "id": "5PSHwPoBpJzt",
        "outputId": "9968195f-ad1d-4bc4-8938-f25bef83a75f"
      },
      "execution_count": 19,
      "outputs": [
        {
          "output_type": "execute_result",
          "data": {
            "text/plain": [
              "1000000.0"
            ]
          },
          "metadata": {},
          "execution_count": 19
        }
      ]
    },
    {
      "cell_type": "code",
      "source": [
        "1e0.2"
      ],
      "metadata": {
        "colab": {
          "base_uri": "https://localhost:8080/",
          "height": 130
        },
        "id": "4iEOkioFo3b6",
        "outputId": "40088db2-a4f3-4549-df86-990f04283cb0"
      },
      "execution_count": 20,
      "outputs": [
        {
          "output_type": "error",
          "ename": "SyntaxError",
          "evalue": "ignored",
          "traceback": [
            "\u001b[0;36m  File \u001b[0;32m\"<ipython-input-20-9f15c8039731>\"\u001b[0;36m, line \u001b[0;32m1\u001b[0m\n\u001b[0;31m    3e0.2\u001b[0m\n\u001b[0m       ^\u001b[0m\n\u001b[0;31mSyntaxError\u001b[0m\u001b[0;31m:\u001b[0m invalid syntax\n"
          ]
        }
      ]
    },
    {
      "cell_type": "markdown",
      "source": [
        "### Transformation\n",
        "You can change the `type()` "
      ],
      "metadata": {
        "id": "l38jyB-SqLx1"
      }
    },
    {
      "cell_type": "code",
      "source": [
        "#Example\n",
        "float(2)"
      ],
      "metadata": {
        "colab": {
          "base_uri": "https://localhost:8080/"
        },
        "id": "UEBBf6Qfqpp0",
        "outputId": "7ba0f7dc-db87-4c25-8070-b49df415e851"
      },
      "execution_count": 21,
      "outputs": [
        {
          "output_type": "execute_result",
          "data": {
            "text/plain": [
              "2.0"
            ]
          },
          "metadata": {},
          "execution_count": 21
        }
      ]
    },
    {
      "cell_type": "code",
      "source": [
        "#Example\n",
        "int(3.3333)"
      ],
      "metadata": {
        "colab": {
          "base_uri": "https://localhost:8080/"
        },
        "id": "cGup1CPQquIk",
        "outputId": "640c745b-7909-473e-eccc-58e5e68f04eb"
      },
      "execution_count": 23,
      "outputs": [
        {
          "output_type": "execute_result",
          "data": {
            "text/plain": [
              "3"
            ]
          },
          "metadata": {},
          "execution_count": 23
        }
      ]
    },
    {
      "cell_type": "code",
      "source": [],
      "metadata": {
        "id": "x-SwD_Kmqvcy"
      },
      "execution_count": null,
      "outputs": []
    }
  ]
}