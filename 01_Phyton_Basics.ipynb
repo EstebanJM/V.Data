{
  "nbformat": 4,
  "nbformat_minor": 0,
  "metadata": {
    "colab": {
      "provenance": [],
      "authorship_tag": "ABX9TyPeSKvNnsF/q7meOxnW3gme",
      "include_colab_link": true
    },
    "kernelspec": {
      "name": "python3",
      "display_name": "Python 3"
    },
    "language_info": {
      "name": "python"
    }
  },
  "cells": [
    {
      "cell_type": "markdown",
      "metadata": {
        "id": "view-in-github",
        "colab_type": "text"
      },
      "source": [
        "<a href=\"https://colab.research.google.com/github/EstebanJM/V.Data/blob/main/01_Phyton_Basics.ipynb\" target=\"_parent\"><img src=\"https://colab.research.google.com/assets/colab-badge.svg\" alt=\"Open In Colab\"/></a>"
      ]
    },
    {
      "cell_type": "markdown",
      "source": [
        "## Introduction \n",
        "\n",
        "In this file, we are going to *code* \n",
        "\n",
        "We are going understand Phyton, how its work, and some tricks. "
      ],
      "metadata": {
        "id": "snzmL5wbj-yf"
      }
    },
    {
      "cell_type": "markdown",
      "source": [
        "# 1. What is Phyton?\n",
        "It was created in 1991 and it is a **general-purposue programming language**  \n",
        "\n",
        "This mean that Phyton is used for:\n",
        "* Data analysis\n",
        "* Automatic task\n",
        "* Machine learning\n",
        "* Data visualization\n",
        "* Optimization\n",
        "* Web development\n",
        "* User Interfaces creation\n",
        "* Create another software - Video game\n",
        "\n",
        "The world run on Phyton, C++, Java and HTLM / CSS, AND R?\n"
      ],
      "metadata": {
        "id": "MSpkeQ0NkTEm"
      }
    },
    {
      "cell_type": "markdown",
      "source": [
        "# 2. Why Phyton?\n",
        "\n",
        "The main reasons:\n",
        "\n",
        "* It is simple.\n",
        "* Focus.\n",
        "* Easy to learn\n",
        "* Open-source: It's free.\n",
        "* Cross-platorm.\n",
        "* Extensive libraries."
      ],
      "metadata": {
        "id": "j9QshIlOlmq1"
      }
    },
    {
      "cell_type": "markdown",
      "source": [
        "# 3. Getting Stared"
      ],
      "metadata": {
        "id": "7jM4E7qdms2C"
      }
    },
    {
      "cell_type": "markdown",
      "source": [
        "## 3.1. Phyton as a calculator"
      ],
      "metadata": {
        "id": "LBl6IIJImzpn"
      }
    },
    {
      "cell_type": "code",
      "execution_count": null,
      "metadata": {
        "colab": {
          "base_uri": "https://localhost:8080/"
        },
        "id": "ZevPV9ijjl1L",
        "outputId": "7271be90-5612-4e76-cf60-d7697b343006"
      },
      "outputs": [
        {
          "output_type": "execute_result",
          "data": {
            "text/plain": [
              "4"
            ]
          },
          "metadata": {},
          "execution_count": 3
        }
      ],
      "source": [
        "# Addition\n",
        "2 + 2"
      ]
    },
    {
      "cell_type": "code",
      "source": [
        "# Substraction\n",
        "367 - 289"
      ],
      "metadata": {
        "colab": {
          "base_uri": "https://localhost:8080/"
        },
        "id": "CaHFrxLZnXWQ",
        "outputId": "15e47d75-5f7e-4834-a7b2-c5519033241f"
      },
      "execution_count": null,
      "outputs": [
        {
          "output_type": "execute_result",
          "data": {
            "text/plain": [
              "78"
            ]
          },
          "metadata": {},
          "execution_count": 4
        }
      ]
    },
    {
      "cell_type": "code",
      "source": [
        "# Multiplication\n",
        "567 * 2324"
      ],
      "metadata": {
        "colab": {
          "base_uri": "https://localhost:8080/"
        },
        "id": "DdHeHGRroOUp",
        "outputId": "49ed5a55-c7ca-4ad5-af7d-ab9d72b5cb59"
      },
      "execution_count": null,
      "outputs": [
        {
          "output_type": "execute_result",
          "data": {
            "text/plain": [
              "1317708"
            ]
          },
          "metadata": {},
          "execution_count": 5
        }
      ]
    },
    {
      "cell_type": "code",
      "source": [
        "# Division\n",
        "10 / 3"
      ],
      "metadata": {
        "colab": {
          "base_uri": "https://localhost:8080/"
        },
        "id": "OqneJ062oTPP",
        "outputId": "981c6644-1cb4-4dd2-ba5a-dcf31b99a04e"
      },
      "execution_count": null,
      "outputs": [
        {
          "output_type": "execute_result",
          "data": {
            "text/plain": [
              "3.3333333333333335"
            ]
          },
          "metadata": {},
          "execution_count": 10
        }
      ]
    },
    {
      "cell_type": "code",
      "source": [
        "# Integer division \n",
        "10 // 3"
      ],
      "metadata": {
        "colab": {
          "base_uri": "https://localhost:8080/"
        },
        "id": "d_c43v-JobrQ",
        "outputId": "9599f9ba-50ca-45de-b462-65753ba492f3"
      },
      "execution_count": null,
      "outputs": [
        {
          "output_type": "execute_result",
          "data": {
            "text/plain": [
              "3"
            ]
          },
          "metadata": {},
          "execution_count": 9
        }
      ]
    },
    {
      "cell_type": "code",
      "source": [
        "# Exponential\n",
        "2**3"
      ],
      "metadata": {
        "id": "xLavNhFbop9D",
        "colab": {
          "base_uri": "https://localhost:8080/"
        },
        "outputId": "9526e62c-9c8f-4153-8ace-76afefdc56d0"
      },
      "execution_count": null,
      "outputs": [
        {
          "output_type": "execute_result",
          "data": {
            "text/plain": [
              "8"
            ]
          },
          "metadata": {},
          "execution_count": 2
        }
      ]
    },
    {
      "cell_type": "markdown",
      "source": [
        "## 3.2 Composite operations and parenthesis"
      ],
      "metadata": {
        "id": "RTsnHoE2jPAe"
      }
    },
    {
      "cell_type": "code",
      "source": [
        "#Example\n",
        "\n",
        "2 + 3*4"
      ],
      "metadata": {
        "colab": {
          "base_uri": "https://localhost:8080/"
        },
        "id": "uEne4NkZiiEF",
        "outputId": "9534699d-c747-484a-9a54-7a4de205cdc3"
      },
      "execution_count": null,
      "outputs": [
        {
          "output_type": "execute_result",
          "data": {
            "text/plain": [
              "14"
            ]
          },
          "metadata": {},
          "execution_count": 3
        }
      ]
    },
    {
      "cell_type": "markdown",
      "source": [
        "You can change the operator precedence using **pharenteshis**"
      ],
      "metadata": {
        "id": "-f4587MHjDRw"
      }
    },
    {
      "cell_type": "code",
      "source": [
        "# Example\n",
        "\n",
        "(2+3)*4"
      ],
      "metadata": {
        "colab": {
          "base_uri": "https://localhost:8080/"
        },
        "id": "7daIunk7jFD7",
        "outputId": "7c0768af-cd3a-40db-ff5a-b65471dc2393"
      },
      "execution_count": null,
      "outputs": [
        {
          "output_type": "execute_result",
          "data": {
            "text/plain": [
              "20"
            ]
          },
          "metadata": {},
          "execution_count": 5
        }
      ]
    },
    {
      "cell_type": "markdown",
      "source": [
        "## 3.3 integers and real numbers "
      ],
      "metadata": {
        "id": "VTXTtYSxjTxw"
      }
    },
    {
      "cell_type": "code",
      "source": [
        "#Interger (with no decimal positions)\n",
        "type(26) "
      ],
      "metadata": {
        "colab": {
          "base_uri": "https://localhost:8080/"
        },
        "id": "rHGzZxd8jHh3",
        "outputId": "8668a4d4-fb10-43b2-e1b4-dd0261cc3794"
      },
      "execution_count": null,
      "outputs": [
        {
          "output_type": "execute_result",
          "data": {
            "text/plain": [
              "int"
            ]
          },
          "metadata": {},
          "execution_count": 7
        }
      ]
    },
    {
      "cell_type": "code",
      "source": [
        "#Real number (with decimal positions)\n",
        "\n",
        "type(2.5)"
      ],
      "metadata": {
        "colab": {
          "base_uri": "https://localhost:8080/"
        },
        "id": "7l0jYT8ykcnh",
        "outputId": "238d1556-1587-4d61-8dc5-9ea094eb8396"
      },
      "execution_count": null,
      "outputs": [
        {
          "output_type": "execute_result",
          "data": {
            "text/plain": [
              "float"
            ]
          },
          "metadata": {},
          "execution_count": 8
        }
      ]
    },
    {
      "cell_type": "code",
      "source": [
        "# Examples \n",
        "## Find out if the next expressions are int our floats\n",
        "2+3.0\n",
        "2.5*7\n",
        "4.0/2"
      ],
      "metadata": {
        "id": "obaJzcvOlCl-"
      },
      "execution_count": null,
      "outputs": []
    },
    {
      "cell_type": "code",
      "source": [
        "type(2+3.0)"
      ],
      "metadata": {
        "colab": {
          "base_uri": "https://localhost:8080/"
        },
        "id": "pLSmxqOFkrYM",
        "outputId": "cd844797-7b83-4df1-9873-1415904b2228"
      },
      "execution_count": null,
      "outputs": [
        {
          "output_type": "execute_result",
          "data": {
            "text/plain": [
              "float"
            ]
          },
          "metadata": {},
          "execution_count": 11
        }
      ]
    },
    {
      "cell_type": "code",
      "source": [
        "type(2.5*7)"
      ],
      "metadata": {
        "colab": {
          "base_uri": "https://localhost:8080/"
        },
        "id": "D6-7qUALl_fd",
        "outputId": "55c30014-f8ec-4ca5-8bf8-1c867e422850"
      },
      "execution_count": null,
      "outputs": [
        {
          "output_type": "execute_result",
          "data": {
            "text/plain": [
              "float"
            ]
          },
          "metadata": {},
          "execution_count": 12
        }
      ]
    },
    {
      "cell_type": "code",
      "source": [
        "type(4.0/2)"
      ],
      "metadata": {
        "colab": {
          "base_uri": "https://localhost:8080/"
        },
        "id": "0OwxiGqGmCOB",
        "outputId": "fb066aa4-f0c6-45c9-bc81-5ba66b7fac80"
      },
      "execution_count": null,
      "outputs": [
        {
          "output_type": "execute_result",
          "data": {
            "text/plain": [
              "float"
            ]
          },
          "metadata": {},
          "execution_count": 13
        }
      ]
    },
    {
      "cell_type": "markdown",
      "source": [
        "### Scientific notation"
      ],
      "metadata": {
        "id": "KbVR6p3OmzIh"
      }
    },
    {
      "cell_type": "code",
      "source": [
        "# Example\n",
        "5e1"
      ],
      "metadata": {
        "colab": {
          "base_uri": "https://localhost:8080/"
        },
        "id": "hEarpSonoguP",
        "outputId": "a1fca0dc-4880-4533-ee97-f5c08052a2a8"
      },
      "execution_count": null,
      "outputs": [
        {
          "output_type": "execute_result",
          "data": {
            "text/plain": [
              "50.0"
            ]
          },
          "metadata": {},
          "execution_count": 14
        }
      ]
    },
    {
      "cell_type": "code",
      "source": [
        "# Example\n",
        "6e-2"
      ],
      "metadata": {
        "colab": {
          "base_uri": "https://localhost:8080/"
        },
        "id": "8RDsUBnMos9W",
        "outputId": "016cbe68-5294-4617-fdcc-82d0e7a7a51e"
      },
      "execution_count": null,
      "outputs": [
        {
          "output_type": "execute_result",
          "data": {
            "text/plain": [
              "0.06"
            ]
          },
          "metadata": {},
          "execution_count": 17
        }
      ]
    },
    {
      "cell_type": "markdown",
      "source": [
        "# Practice\n",
        "# Write 1 millon in scientific notation\n",
        "# what is the result of 3e0.2"
      ],
      "metadata": {
        "id": "ZBtChB6somNW"
      }
    },
    {
      "cell_type": "code",
      "source": [
        "1e6"
      ],
      "metadata": {
        "colab": {
          "base_uri": "https://localhost:8080/"
        },
        "id": "5PSHwPoBpJzt",
        "outputId": "9968195f-ad1d-4bc4-8938-f25bef83a75f"
      },
      "execution_count": null,
      "outputs": [
        {
          "output_type": "execute_result",
          "data": {
            "text/plain": [
              "1000000.0"
            ]
          },
          "metadata": {},
          "execution_count": 19
        }
      ]
    },
    {
      "cell_type": "code",
      "source": [
        "1e0.2"
      ],
      "metadata": {
        "colab": {
          "base_uri": "https://localhost:8080/",
          "height": 130
        },
        "id": "4iEOkioFo3b6",
        "outputId": "40088db2-a4f3-4549-df86-990f04283cb0"
      },
      "execution_count": null,
      "outputs": [
        {
          "output_type": "error",
          "ename": "SyntaxError",
          "evalue": "ignored",
          "traceback": [
            "\u001b[0;36m  File \u001b[0;32m\"<ipython-input-20-9f15c8039731>\"\u001b[0;36m, line \u001b[0;32m1\u001b[0m\n\u001b[0;31m    3e0.2\u001b[0m\n\u001b[0m       ^\u001b[0m\n\u001b[0;31mSyntaxError\u001b[0m\u001b[0;31m:\u001b[0m invalid syntax\n"
          ]
        }
      ]
    },
    {
      "cell_type": "markdown",
      "source": [
        "### Transformation\n",
        "You can change the `type()` "
      ],
      "metadata": {
        "id": "l38jyB-SqLx1"
      }
    },
    {
      "cell_type": "code",
      "source": [
        "#Example\n",
        "float(2)"
      ],
      "metadata": {
        "colab": {
          "base_uri": "https://localhost:8080/"
        },
        "id": "UEBBf6Qfqpp0",
        "outputId": "7ba0f7dc-db87-4c25-8070-b49df415e851"
      },
      "execution_count": null,
      "outputs": [
        {
          "output_type": "execute_result",
          "data": {
            "text/plain": [
              "2.0"
            ]
          },
          "metadata": {},
          "execution_count": 21
        }
      ]
    },
    {
      "cell_type": "code",
      "source": [
        "#Example\n",
        "int(3.3333)"
      ],
      "metadata": {
        "id": "cGup1CPQquIk",
        "outputId": "640c745b-7909-473e-eccc-58e5e68f04eb",
        "colab": {
          "base_uri": "https://localhost:8080/"
        }
      },
      "execution_count": null,
      "outputs": [
        {
          "output_type": "execute_result",
          "data": {
            "text/plain": [
              "3"
            ]
          },
          "metadata": {},
          "execution_count": 23
        }
      ]
    },
    {
      "cell_type": "markdown",
      "source": [
        "## 3.4 Basic and useful functions\n",
        "\n",
        "Functions let us do things more efficiently"
      ],
      "metadata": {
        "id": "gJWaS4XwdUOb"
      }
    },
    {
      "cell_type": "markdown",
      "source": [
        "### **Print**"
      ],
      "metadata": {
        "id": "QKB6sqwKeQ2a"
      }
    },
    {
      "cell_type": "code",
      "source": [
        "# Example with numbers \n",
        "\n",
        "print(2023) \n",
        "print(2024)\n",
        "print(22,2,2022)\n"
      ],
      "metadata": {
        "id": "x-SwD_Kmqvcy",
        "colab": {
          "base_uri": "https://localhost:8080/"
        },
        "outputId": "6a7f5da2-688e-4df4-934b-8b694452c935"
      },
      "execution_count": 4,
      "outputs": [
        {
          "output_type": "stream",
          "name": "stdout",
          "text": [
            "2023\n",
            "2024\n",
            "22 2 2022\n"
          ]
        }
      ]
    },
    {
      "cell_type": "code",
      "source": [
        "## Example\n",
        "for i in range (0,11): print(i)"
      ],
      "metadata": {
        "colab": {
          "base_uri": "https://localhost:8080/"
        },
        "id": "85EhPjxEezwF",
        "outputId": "9052c5e2-bd2e-4282-d0fe-76d62e8c3fad"
      },
      "execution_count": 7,
      "outputs": [
        {
          "output_type": "stream",
          "name": "stdout",
          "text": [
            "0\n",
            "1\n",
            "2\n",
            "3\n",
            "4\n",
            "5\n",
            "6\n",
            "7\n",
            "8\n",
            "9\n",
            "10\n"
          ]
        }
      ]
    },
    {
      "cell_type": "code",
      "source": [
        "# Example with text\n",
        "print(\"Hello world\")\n",
        "print (\"First Name: Michael\", \"Second name: Esteban \")\n",
        "print (\"First Name: Michael\", \"\\tSecond name: Esteban \")\n",
        "print (\"First Name: Michael\", \"\\nSecond name: Esteban \")"
      ],
      "metadata": {
        "colab": {
          "base_uri": "https://localhost:8080/"
        },
        "id": "j7goZ0zagwds",
        "outputId": "42b898e9-7830-496a-e267-34b29370b47a"
      },
      "execution_count": 12,
      "outputs": [
        {
          "output_type": "stream",
          "name": "stdout",
          "text": [
            "Hello world\n",
            "First Name: Michael Second name: Esteban \n",
            "First Name: Michael \tSecond name: Esteban \n",
            "First Name: Michael \n",
            "Second name: Esteban \n"
          ]
        }
      ]
    },
    {
      "cell_type": "code",
      "source": [
        "# Example - text and numbers\n",
        "\n",
        "print(\"My lucky number is:\", 10)"
      ],
      "metadata": {
        "colab": {
          "base_uri": "https://localhost:8080/"
        },
        "id": "TB2bCgVshZh6",
        "outputId": "6752b80e-674d-4686-f287-59bbc9fcb6d1"
      },
      "execution_count": 14,
      "outputs": [
        {
          "output_type": "stream",
          "name": "stdout",
          "text": [
            "My lucky number is: 10\n"
          ]
        }
      ]
    },
    {
      "cell_type": "markdown",
      "source": [
        "### **Round**\n",
        "\n",
        "It will tle us to control the decimal positions"
      ],
      "metadata": {
        "id": "LmFjxAbDjFQK"
      }
    },
    {
      "cell_type": "code",
      "source": [
        "# Example\n",
        "# Consider 8.53214794\n",
        "# Let us use round\n",
        "\n",
        "print(\"the approximation of\", 8.53214794, \"with\", 0, \"decimals is:\", (round(8.53214794,0)))\n",
        "print(\"the approximation of\", 8.53214794, \"with\", 1, \"decimals is:\", (round(8.53214794,1)))"
      ],
      "metadata": {
        "colab": {
          "base_uri": "https://localhost:8080/"
        },
        "id": "jlCRO-rgi9CZ",
        "outputId": "974b5b0d-d0cb-47c8-f7dd-ec1e830c0597"
      },
      "execution_count": 28,
      "outputs": [
        {
          "output_type": "stream",
          "name": "stdout",
          "text": [
            "the approximation of 8.53214794 with 0 decimals is: 9.0\n",
            "the approximation of 8.53214794 with 1 decimals is: 8.5\n"
          ]
        }
      ]
    },
    {
      "cell_type": "code",
      "source": [
        "print(\"the approximation of\", 8.53214794, \"with:\")\n",
        "print(\"Decimals\", \"\\t\", \"Result\")\n",
        "print(0, \"\\t\", \"\\t\", (round(8.53214794,0)))\n",
        "print(1, \"\\t\", \"\\t\", (round(8.53214794,1)))"
      ],
      "metadata": {
        "colab": {
          "base_uri": "https://localhost:8080/"
        },
        "id": "KdBdXWL9kRf4",
        "outputId": "c563e889-8f40-4ea6-8074-4b0b7a33ee1c"
      },
      "execution_count": 45,
      "outputs": [
        {
          "output_type": "stream",
          "name": "stdout",
          "text": [
            "the approximation of 8.53214794 with:\n",
            "Decimals \t Result\n",
            "0 \t \t 9.0\n",
            "1 \t \t 8.5\n"
          ]
        }
      ]
    },
    {
      "cell_type": "code",
      "source": [
        "print(\"Decimals\", \"\\t\", \"Result\")\n",
        "for i in range (0,8): print(i, \"\\t\", \"\\t\", (round(8.53214794,i)))\n"
      ],
      "metadata": {
        "colab": {
          "base_uri": "https://localhost:8080/"
        },
        "id": "o5YJsbkwnE7t",
        "outputId": "d7df9193-d1da-4f10-a17d-ac939e12e95b"
      },
      "execution_count": 81,
      "outputs": [
        {
          "output_type": "stream",
          "name": "stdout",
          "text": [
            "Decimals \t Result\n",
            "0 \t \t 9.0\n",
            "1 \t \t 8.5\n",
            "2 \t \t 8.53\n",
            "3 \t \t 8.532\n",
            "4 \t \t 8.5321\n",
            "5 \t \t 8.53215\n",
            "6 \t \t 8.532148\n",
            "7 \t \t 8.5321479\n"
          ]
        }
      ]
    },
    {
      "cell_type": "code",
      "source": [
        "print(100, \"Mulples of\", 2)\n",
        "print(\"Multiple\", \"\\t\", \"Result\")\n",
        "for i in range (1,101): print(i, \"\\t\", \"\\t\", (2*i))\n"
      ],
      "metadata": {
        "colab": {
          "base_uri": "https://localhost:8080/"
        },
        "id": "6jwK82KMpRQQ",
        "outputId": "ae9a4a0e-7e2a-4dbb-cc32-82f05b1caa18"
      },
      "execution_count": 89,
      "outputs": [
        {
          "output_type": "stream",
          "name": "stdout",
          "text": [
            "100 Mulples of 2\n",
            "Multiple \t Result\n",
            "1 \t \t 2\n",
            "2 \t \t 4\n",
            "3 \t \t 6\n",
            "4 \t \t 8\n",
            "5 \t \t 10\n",
            "6 \t \t 12\n",
            "7 \t \t 14\n",
            "8 \t \t 16\n",
            "9 \t \t 18\n",
            "10 \t \t 20\n",
            "11 \t \t 22\n",
            "12 \t \t 24\n",
            "13 \t \t 26\n",
            "14 \t \t 28\n",
            "15 \t \t 30\n",
            "16 \t \t 32\n",
            "17 \t \t 34\n",
            "18 \t \t 36\n",
            "19 \t \t 38\n",
            "20 \t \t 40\n",
            "21 \t \t 42\n",
            "22 \t \t 44\n",
            "23 \t \t 46\n",
            "24 \t \t 48\n",
            "25 \t \t 50\n",
            "26 \t \t 52\n",
            "27 \t \t 54\n",
            "28 \t \t 56\n",
            "29 \t \t 58\n",
            "30 \t \t 60\n",
            "31 \t \t 62\n",
            "32 \t \t 64\n",
            "33 \t \t 66\n",
            "34 \t \t 68\n",
            "35 \t \t 70\n",
            "36 \t \t 72\n",
            "37 \t \t 74\n",
            "38 \t \t 76\n",
            "39 \t \t 78\n",
            "40 \t \t 80\n",
            "41 \t \t 82\n",
            "42 \t \t 84\n",
            "43 \t \t 86\n",
            "44 \t \t 88\n",
            "45 \t \t 90\n",
            "46 \t \t 92\n",
            "47 \t \t 94\n",
            "48 \t \t 96\n",
            "49 \t \t 98\n",
            "50 \t \t 100\n",
            "51 \t \t 102\n",
            "52 \t \t 104\n",
            "53 \t \t 106\n",
            "54 \t \t 108\n",
            "55 \t \t 110\n",
            "56 \t \t 112\n",
            "57 \t \t 114\n",
            "58 \t \t 116\n",
            "59 \t \t 118\n",
            "60 \t \t 120\n",
            "61 \t \t 122\n",
            "62 \t \t 124\n",
            "63 \t \t 126\n",
            "64 \t \t 128\n",
            "65 \t \t 130\n",
            "66 \t \t 132\n",
            "67 \t \t 134\n",
            "68 \t \t 136\n",
            "69 \t \t 138\n",
            "70 \t \t 140\n",
            "71 \t \t 142\n",
            "72 \t \t 144\n",
            "73 \t \t 146\n",
            "74 \t \t 148\n",
            "75 \t \t 150\n",
            "76 \t \t 152\n",
            "77 \t \t 154\n",
            "78 \t \t 156\n",
            "79 \t \t 158\n",
            "80 \t \t 160\n",
            "81 \t \t 162\n",
            "82 \t \t 164\n",
            "83 \t \t 166\n",
            "84 \t \t 168\n",
            "85 \t \t 170\n",
            "86 \t \t 172\n",
            "87 \t \t 174\n",
            "88 \t \t 176\n",
            "89 \t \t 178\n",
            "90 \t \t 180\n",
            "91 \t \t 182\n",
            "92 \t \t 184\n",
            "93 \t \t 186\n",
            "94 \t \t 188\n",
            "95 \t \t 190\n",
            "96 \t \t 192\n",
            "97 \t \t 194\n",
            "98 \t \t 196\n",
            "99 \t \t 198\n",
            "100 \t \t 200\n"
          ]
        }
      ]
    },
    {
      "cell_type": "code",
      "source": [],
      "metadata": {
        "id": "NK561-PnswAC"
      },
      "execution_count": null,
      "outputs": []
    }
  ]
}